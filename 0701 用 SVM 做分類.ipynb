{
 "cells": [
  {
   "cell_type": "markdown",
   "metadata": {},
   "source": [
    "# 機器學習概要\n",
    "\n",
    "機器學習其實基本上和我們一直以來說的一樣, 就是我們要學一個未知的函數\n",
    "\n",
    "$$f(x) = y$$\n",
    "\n",
    "如果是分類, 基本上就是有一筆資料 $x=(x_1, x_2, \\ldots, x_k)$, 我們想知道這\n",
    "\n",
    "$$f(x) = y$$,\n",
    "\n",
    "其中的 $y$ 就是某一個類別。\n",
    "\n",
    "這種學函數的方法, 又可以分為:\n",
    "\n",
    "* supervised learning\n",
    "* unsupervised learning \n",
    "\n",
    "其中的 supervised learning 就是我們有一組知道答案的訓練資料, 然後找到我們要的函數。而 unsupervised learning 就神了, 我們不知道答案, 卻要電腦自己去學!\n",
    "\n",
    "今天我們就來介紹最最基本的方式, 一個是 SVM, 一個是 K-Means。\n",
    "\n",
    "## SVM"
   ]
  },
  {
   "cell_type": "code",
   "execution_count": 1,
   "metadata": {
    "collapsed": true
   },
   "outputs": [],
   "source": [
    "%matplotlib inline\n",
    "import numpy as np\n",
    "import matplotlib.pyplot as plt"
   ]
  },
  {
   "cell_type": "code",
   "execution_count": 2,
   "metadata": {
    "collapsed": true
   },
   "outputs": [],
   "source": [
    "x = np.array([[-3,2], [-6,5], [3,-4], [2,-8]])\n",
    "y = np.array([1, 1, 2, 2])"
   ]
  },
  {
   "cell_type": "code",
   "execution_count": 3,
   "metadata": {},
   "outputs": [
    {
     "data": {
      "text/plain": [
       "<matplotlib.collections.PathCollection at 0x10b8cfba8>"
      ]
     },
     "execution_count": 3,
     "metadata": {},
     "output_type": "execute_result"
    },
    {
     "data": {
      "image/png": "[encoded data removed]",
      "text/plain": [
       "<matplotlib.figure.Figure at 0x10efbe2b0>"
      ]
     },
     "metadata": {},
     "output_type": "display_data"
    }
   ],
   "source": [
    "plt.scatter([-3, -6, 3, 2], [2, 5, -4, -8], c=y)"
   ]
  },
  {
   "cell_type": "code",
   "execution_count": 4,
   "metadata": {},
   "outputs": [
    {
     "data": {
      "text/plain": [
       "array([[-3,  2],\n",
       "       [-6,  5],\n",
       "       [ 3, -4],\n",
       "       [ 2, -8]])"
      ]
     },
     "execution_count": 4,
     "metadata": {},
     "output_type": "execute_result"
    }
   ],
   "source": [
    "x"
   ]
  },
  {
   "cell_type": "code",
   "execution_count": 5,
   "metadata": {},
   "outputs": [
    {
     "data": {
      "text/plain": [
       "-4"
      ]
     },
     "execution_count": 5,
     "metadata": {},
     "output_type": "execute_result"
    }
   ],
   "source": [
    "x[2,1]"
   ]
  },
  {
   "cell_type": "code",
   "execution_count": 8,
   "metadata": {},
   "outputs": [
    {
     "data": {
      "text/plain": [
       "array([ 2,  5, -4, -8])"
      ]
     },
     "execution_count": 8,
     "metadata": {},
     "output_type": "execute_result"
    }
   ],
   "source": [
    "x[:,1]"
   ]
  },
  {
   "cell_type": "code",
   "execution_count": 10,
   "metadata": {},
   "outputs": [
    {
     "data": {
      "text/plain": [
       "<matplotlib.collections.PathCollection at 0x1173c33c8>"
      ]
     },
     "execution_count": 10,
     "metadata": {},
     "output_type": "execute_result"
    },
    {
     "data": {
      "image/png": "[encoded data removed]",
      "text/plain": [
       "<matplotlib.figure.Figure at 0x1172d6b70>"
      ]
     },
     "metadata": {},
     "output_type": "display_data"
    }
   ],
   "source": [
    "plt.scatter(x[:,0],x[:,1], c=y)"
   ]
  },
  {
   "cell_type": "code",
   "execution_count": 13,
   "metadata": {},
   "outputs": [
    {
     "data": {
      "text/plain": [
       "<matplotlib.collections.PathCollection at 0x117696ac8>"
      ]
     },
     "execution_count": 13,
     "metadata": {},
     "output_type": "execute_result"
    },
    {
     "data": {
      "image/png": "[encoded data removed]",
      "text/plain": [
       "<matplotlib.figure.Figure at 0x1175c7f60>"
      ]
     },
     "metadata": {},
     "output_type": "display_data"
    }
   ],
   "source": [
    "plt.scatter(x[:,0],x[:,1], s=50,c=y)"
   ]
  },
  {
   "cell_type": "markdown",
   "metadata": {},
   "source": [
    "### SVM 支持向量機\n",
    "\n",
    "支持向量機, 大家都用英文縮寫 SVM 稱呼。是一個用曲線把資料分隔的辦法。在高維度的時候自然就是曲面 (超曲面) 分隔資料的方法。"
   ]
  },
  {
   "cell_type": "code",
   "execution_count": 14,
   "metadata": {
    "collapsed": true
   },
   "outputs": [],
   "source": [
    "from sklearn.svm import SVC"
   ]
  },
  {
   "cell_type": "code",
   "execution_count": 15,
   "metadata": {
    "collapsed": true
   },
   "outputs": [],
   "source": [
    "clf = SVC()"
   ]
  },
  {
   "cell_type": "code",
   "execution_count": 16,
   "metadata": {},
   "outputs": [
    {
     "data": {
      "text/plain": [
       "SVC(C=1.0, cache_size=200, class_weight=None, coef0=0.0,\n",
       "  decision_function_shape='ovr', degree=3, gamma='auto', kernel='rbf',\n",
       "  max_iter=-1, probability=False, random_state=None, shrinking=True,\n",
       "  tol=0.001, verbose=False)"
      ]
     },
     "execution_count": 16,
     "metadata": {},
     "output_type": "execute_result"
    }
   ],
   "source": [
    "clf.fit(x, y)"
   ]
  },
  {
   "cell_type": "markdown",
   "metadata": {},
   "source": [
    "### 預測結果"
   ]
  },
  {
   "cell_type": "code",
   "execution_count": 17,
   "metadata": {},
   "outputs": [
    {
     "data": {
      "text/plain": [
       "array([1])"
      ]
     },
     "execution_count": 17,
     "metadata": {},
     "output_type": "execute_result"
    }
   ],
   "source": [
    "clf.predict([[-3,2]])"
   ]
  },
  {
   "cell_type": "code",
   "execution_count": 18,
   "metadata": {},
   "outputs": [
    {
     "data": {
      "text/plain": [
       "array([1, 1, 2, 2])"
      ]
     },
     "execution_count": 18,
     "metadata": {},
     "output_type": "execute_result"
    }
   ],
   "source": [
    "clf.predict(x)"
   ]
  },
  {
   "cell_type": "code",
   "execution_count": 19,
   "metadata": {},
   "outputs": [
    {
     "data": {
      "text/plain": [
       "array([1])"
      ]
     },
     "execution_count": 19,
     "metadata": {},
     "output_type": "execute_result"
    }
   ],
   "source": [
    "clf.predict([[2.5,3]])"
   ]
  },
  {
   "cell_type": "markdown",
   "metadata": {},
   "source": [
    "#### meshgrid"
   ]
  },
  {
   "cell_type": "code",
   "execution_count": 20,
   "metadata": {
    "collapsed": true
   },
   "outputs": [],
   "source": [
    "xx = [1,2,3,4]\n",
    "yy = [5,6,7,8]"
   ]
  },
  {
   "cell_type": "code",
   "execution_count": 21,
   "metadata": {
    "collapsed": true
   },
   "outputs": [],
   "source": [
    "X, Y = np.meshgrid(xx,yy)"
   ]
  },
  {
   "cell_type": "code",
   "execution_count": 22,
   "metadata": {},
   "outputs": [
    {
     "data": {
      "text/plain": [
       "array([[1, 2, 3, 4],\n",
       "       [1, 2, 3, 4],\n",
       "       [1, 2, 3, 4],\n",
       "       [1, 2, 3, 4]])"
      ]
     },
     "execution_count": 22,
     "metadata": {},
     "output_type": "execute_result"
    }
   ],
   "source": [
    "X"
   ]
  },
  {
   "cell_type": "code",
   "execution_count": 25,
   "metadata": {},
   "outputs": [
    {
     "data": {
      "text/plain": [
       "array([[-8.        , -8.        , -8.        , -8.        , -8.        ,\n",
       "        -8.        , -8.        , -8.        , -8.        , -8.        ,\n",
       "        -8.        , -8.        , -8.        , -8.        , -8.        ,\n",
       "        -8.        , -8.        , -8.        , -8.        , -8.        ,\n",
       "        -8.        , -8.        , -8.        , -8.        , -8.        ,\n",
       "        -8.        , -8.        , -8.        , -8.        , -8.        ],\n",
       "       [-7.55172414, -7.55172414, -7.55172414, -7.55172414, -7.55172414,\n",
       "        -7.55172414, -7.55172414, -7.55172414, -7.55172414, -7.55172414,\n",
       "        -7.55172414, -7.55172414, -7.55172414, -7.55172414, -7.55172414,\n",
       "        -7.55172414, -7.55172414, -7.55172414, -7.55172414, -7.55172414,\n",
       "        -7.55172414, -7.55172414, -7.55172414, -7.55172414, -7.55172414,\n",
       "        -7.55172414, -7.55172414, -7.55172414, -7.55172414, -7.55172414],\n",
       "       [-7.10344828, -7.10344828, -7.10344828, -7.10344828, -7.10344828,\n",
       "        -7.10344828, -7.10344828, -7.10344828, -7.10344828, -7.10344828,\n",
       "        -7.10344828, -7.10344828, -7.10344828, -7.10344828, -7.10344828,\n",
       "        -7.10344828, -7.10344828, -7.10344828, -7.10344828, -7.10344828,\n",
       "        -7.10344828, -7.10344828, -7.10344828, -7.10344828, -7.10344828,\n",
       "        -7.10344828, -7.10344828, -7.10344828, -7.10344828, -7.10344828],\n",
       "       [-6.65517241, -6.65517241, -6.65517241, -6.65517241, -6.65517241,\n",
       "        -6.65517241, -6.65517241, -6.65517241, -6.65517241, -6.65517241,\n",
       "        -6.65517241, -6.65517241, -6.65517241, -6.65517241, -6.65517241,\n",
       "        -6.65517241, -6.65517241, -6.65517241, -6.65517241, -6.65517241,\n",
       "        -6.65517241, -6.65517241, -6.65517241, -6.65517241, -6.65517241,\n",
       "        -6.65517241, -6.65517241, -6.65517241, -6.65517241, -6.65517241],\n",
       "       [-6.20689655, -6.20689655, -6.20689655, -6.20689655, -6.20689655,\n",
       "        -6.20689655, -6.20689655, -6.20689655, -6.20689655, -6.20689655,\n",
       "        -6.20689655, -6.20689655, -6.20689655, -6.20689655, -6.20689655,\n",
       "        -6.20689655, -6.20689655, -6.20689655, -6.20689655, -6.20689655,\n",
       "        -6.20689655, -6.20689655, -6.20689655, -6.20689655, -6.20689655,\n",
       "        -6.20689655, -6.20689655, -6.20689655, -6.20689655, -6.20689655],\n",
       "       [-5.75862069, -5.75862069, -5.75862069, -5.75862069, -5.75862069,\n",
       "        -5.75862069, -5.75862069, -5.75862069, -5.75862069, -5.75862069,\n",
       "        -5.75862069, -5.75862069, -5.75862069, -5.75862069, -5.75862069,\n",
       "        -5.75862069, -5.75862069, -5.75862069, -5.75862069, -5.75862069,\n",
       "        -5.75862069, -5.75862069, -5.75862069, -5.75862069, -5.75862069,\n",
       "        -5.75862069, -5.75862069, -5.75862069, -5.75862069, -5.75862069],\n",
       "       [-5.31034483, -5.31034483, -5.31034483, -5.31034483, -5.31034483,\n",
       "        -5.31034483, -5.31034483, -5.31034483, -5.31034483, -5.31034483,\n",
       "        -5.31034483, -5.31034483, -5.31034483, -5.31034483, -5.31034483,\n",
       "        -5.31034483, -5.31034483, -5.31034483, -5.31034483, -5.31034483,\n",
       "        -5.31034483, -5.31034483, -5.31034483, -5.31034483, -5.31034483,\n",
       "        -5.31034483, -5.31034483, -5.31034483, -5.31034483, -5.31034483],\n",
       "       [-4.86206897, -4.86206897, -4.86206897, -4.86206897, -4.86206897,\n",
       "        -4.86206897, -4.86206897, -4.86206897, -4.86206897, -4.86206897,\n",
       "        -4.86206897, -4.86206897, -4.86206897, -4.86206897, -4.86206897,\n",
       "        -4.86206897, -4.86206897, -4.86206897, -4.86206897, -4.86206897,\n",
       "        -4.86206897, -4.86206897, -4.86206897, -4.86206897, -4.86206897,\n",
       "        -4.86206897, -4.86206897, -4.86206897, -4.86206897, -4.86206897],\n",
       "       [-4.4137931 , -4.4137931 , -4.4137931 , -4.4137931 , -4.4137931 ,\n",
       "        -4.4137931 , -4.4137931 , -4.4137931 , -4.4137931 , -4.4137931 ,\n",
       "        -4.4137931 , -4.4137931 , -4.4137931 , -4.4137931 , -4.4137931 ,\n",
       "        -4.4137931 , -4.4137931 , -4.4137931 , -4.4137931 , -4.4137931 ,\n",
       "        -4.4137931 , -4.4137931 , -4.4137931 , -4.4137931 , -4.4137931 ,\n",
       "        -4.4137931 , -4.4137931 , -4.4137931 , -4.4137931 , -4.4137931 ],\n",
       "       [-3.96551724, -3.96551724, -3.96551724, -3.96551724, -3.96551724,\n",
       "        -3.96551724, -3.96551724, -3.96551724, -3.96551724, -3.96551724,\n",
       "        -3.96551724, -3.96551724, -3.96551724, -3.96551724, -3.96551724,\n",
       "        -3.96551724, -3.96551724, -3.96551724, -3.96551724, -3.96551724,\n",
       "        -3.96551724, -3.96551724, -3.96551724, -3.96551724, -3.96551724,\n",
       "        -3.96551724, -3.96551724, -3.96551724, -3.96551724, -3.96551724],\n",
       "       [-3.51724138, -3.51724138, -3.51724138, -3.51724138, -3.51724138,\n",
       "        -3.51724138, -3.51724138, -3.51724138, -3.51724138, -3.51724138,\n",
       "        -3.51724138, -3.51724138, -3.51724138, -3.51724138, -3.51724138,\n",
       "        -3.51724138, -3.51724138, -3.51724138, -3.51724138, -3.51724138,\n",
       "        -3.51724138, -3.51724138, -3.51724138, -3.51724138, -3.51724138,\n",
       "        -3.51724138, -3.51724138, -3.51724138, -3.51724138, -3.51724138],\n",
       "       [-3.06896552, -3.06896552, -3.06896552, -3.06896552, -3.06896552,\n",
       "        -3.06896552, -3.06896552, -3.06896552, -3.06896552, -3.06896552,\n",
       "        -3.06896552, -3.06896552, -3.06896552, -3.06896552, -3.06896552,\n",
       "        -3.06896552, -3.06896552, -3.06896552, -3.06896552, -3.06896552,\n",
       "        -3.06896552, -3.06896552, -3.06896552, -3.06896552, -3.06896552,\n",
       "        -3.06896552, -3.06896552, -3.06896552, -3.06896552, -3.06896552],\n",
       "       [-2.62068966, -2.62068966, -2.62068966, -2.62068966, -2.62068966,\n",
       "        -2.62068966, -2.62068966, -2.62068966, -2.62068966, -2.62068966,\n",
       "        -2.62068966, -2.62068966, -2.62068966, -2.62068966, -2.62068966,\n",
       "        -2.62068966, -2.62068966, -2.62068966, -2.62068966, -2.62068966,\n",
       "        -2.62068966, -2.62068966, -2.62068966, -2.62068966, -2.62068966,\n",
       "        -2.62068966, -2.62068966, -2.62068966, -2.62068966, -2.62068966],\n",
       "       [-2.17241379, -2.17241379, -2.17241379, -2.17241379, -2.17241379,\n",
       "        -2.17241379, -2.17241379, -2.17241379, -2.17241379, -2.17241379,\n",
       "        -2.17241379, -2.17241379, -2.17241379, -2.17241379, -2.17241379,\n",
       "        -2.17241379, -2.17241379, -2.17241379, -2.17241379, -2.17241379,\n",
       "        -2.17241379, -2.17241379, -2.17241379, -2.17241379, -2.17241379,\n",
       "        -2.17241379, -2.17241379, -2.17241379, -2.17241379, -2.17241379],\n",
       "       [-1.72413793, -1.72413793, -1.72413793, -1.72413793, -1.72413793,\n",
       "        -1.72413793, -1.72413793, -1.72413793, -1.72413793, -1.72413793,\n",
       "        -1.72413793, -1.72413793, -1.72413793, -1.72413793, -1.72413793,\n",
       "        -1.72413793, -1.72413793, -1.72413793, -1.72413793, -1.72413793,\n",
       "        -1.72413793, -1.72413793, -1.72413793, -1.72413793, -1.72413793,\n",
       "        -1.72413793, -1.72413793, -1.72413793, -1.72413793, -1.72413793],\n",
       "       [-1.27586207, -1.27586207, -1.27586207, -1.27586207, -1.27586207,\n",
       "        -1.27586207, -1.27586207, -1.27586207, -1.27586207, -1.27586207,\n",
       "        -1.27586207, -1.27586207, -1.27586207, -1.27586207, -1.27586207,\n",
       "        -1.27586207, -1.27586207, -1.27586207, -1.27586207, -1.27586207,\n",
       "        -1.27586207, -1.27586207, -1.27586207, -1.27586207, -1.27586207,\n",
       "        -1.27586207, -1.27586207, -1.27586207, -1.27586207, -1.27586207],\n",
       "       [-0.82758621, -0.82758621, -0.82758621, -0.82758621, -0.82758621,\n",
       "        -0.82758621, -0.82758621, -0.82758621, -0.82758621, -0.82758621,\n",
       "        -0.82758621, -0.82758621, -0.82758621, -0.82758621, -0.82758621,\n",
       "        -0.82758621, -0.82758621, -0.82758621, -0.82758621, -0.82758621,\n",
       "        -0.82758621, -0.82758621, -0.82758621, -0.82758621, -0.82758621,\n",
       "        -0.82758621, -0.82758621, -0.82758621, -0.82758621, -0.82758621],\n",
       "       [-0.37931034, -0.37931034, -0.37931034, -0.37931034, -0.37931034,\n",
       "        -0.37931034, -0.37931034, -0.37931034, -0.37931034, -0.37931034,\n",
       "        -0.37931034, -0.37931034, -0.37931034, -0.37931034, -0.37931034,\n",
       "        -0.37931034, -0.37931034, -0.37931034, -0.37931034, -0.37931034,\n",
       "        -0.37931034, -0.37931034, -0.37931034, -0.37931034, -0.37931034,\n",
       "        -0.37931034, -0.37931034, -0.37931034, -0.37931034, -0.37931034],\n",
       "       [ 0.06896552,  0.06896552,  0.06896552,  0.06896552,  0.06896552,\n",
       "         0.06896552,  0.06896552,  0.06896552,  0.06896552,  0.06896552,\n",
       "         0.06896552,  0.06896552,  0.06896552,  0.06896552,  0.06896552,\n",
       "         0.06896552,  0.06896552,  0.06896552,  0.06896552,  0.06896552,\n",
       "         0.06896552,  0.06896552,  0.06896552,  0.06896552,  0.06896552,\n",
       "         0.06896552,  0.06896552,  0.06896552,  0.06896552,  0.06896552],\n",
       "       [ 0.51724138,  0.51724138,  0.51724138,  0.51724138,  0.51724138,\n",
       "         0.51724138,  0.51724138,  0.51724138,  0.51724138,  0.51724138,\n",
       "         0.51724138,  0.51724138,  0.51724138,  0.51724138,  0.51724138,\n",
       "         0.51724138,  0.51724138,  0.51724138,  0.51724138,  0.51724138,\n",
       "         0.51724138,  0.51724138,  0.51724138,  0.51724138,  0.51724138,\n",
       "         0.51724138,  0.51724138,  0.51724138,  0.51724138,  0.51724138],\n",
       "       [ 0.96551724,  0.96551724,  0.96551724,  0.96551724,  0.96551724,\n",
       "         0.96551724,  0.96551724,  0.96551724,  0.96551724,  0.96551724,\n",
       "         0.96551724,  0.96551724,  0.96551724,  0.96551724,  0.96551724,\n",
       "         0.96551724,  0.96551724,  0.96551724,  0.96551724,  0.96551724,\n",
       "         0.96551724,  0.96551724,  0.96551724,  0.96551724,  0.96551724,\n",
       "         0.96551724,  0.96551724,  0.96551724,  0.96551724,  0.96551724],\n",
       "       [ 1.4137931 ,  1.4137931 ,  1.4137931 ,  1.4137931 ,  1.4137931 ,\n",
       "         1.4137931 ,  1.4137931 ,  1.4137931 ,  1.4137931 ,  1.4137931 ,\n",
       "         1.4137931 ,  1.4137931 ,  1.4137931 ,  1.4137931 ,  1.4137931 ,\n",
       "         1.4137931 ,  1.4137931 ,  1.4137931 ,  1.4137931 ,  1.4137931 ,\n",
       "         1.4137931 ,  1.4137931 ,  1.4137931 ,  1.4137931 ,  1.4137931 ,\n",
       "         1.4137931 ,  1.4137931 ,  1.4137931 ,  1.4137931 ,  1.4137931 ],\n",
       "       [ 1.86206897,  1.86206897,  1.86206897,  1.86206897,  1.86206897,\n",
       "         1.86206897,  1.86206897,  1.86206897,  1.86206897,  1.86206897,\n",
       "         1.86206897,  1.86206897,  1.86206897,  1.86206897,  1.86206897,\n",
       "         1.86206897,  1.86206897,  1.86206897,  1.86206897,  1.86206897,\n",
       "         1.86206897,  1.86206897,  1.86206897,  1.86206897,  1.86206897,\n",
       "         1.86206897,  1.86206897,  1.86206897,  1.86206897,  1.86206897],\n",
       "       [ 2.31034483,  2.31034483,  2.31034483,  2.31034483,  2.31034483,\n",
       "         2.31034483,  2.31034483,  2.31034483,  2.31034483,  2.31034483,\n",
       "         2.31034483,  2.31034483,  2.31034483,  2.31034483,  2.31034483,\n",
       "         2.31034483,  2.31034483,  2.31034483,  2.31034483,  2.31034483,\n",
       "         2.31034483,  2.31034483,  2.31034483,  2.31034483,  2.31034483,\n",
       "         2.31034483,  2.31034483,  2.31034483,  2.31034483,  2.31034483],\n",
       "       [ 2.75862069,  2.75862069,  2.75862069,  2.75862069,  2.75862069,\n",
       "         2.75862069,  2.75862069,  2.75862069,  2.75862069,  2.75862069,\n",
       "         2.75862069,  2.75862069,  2.75862069,  2.75862069,  2.75862069,\n",
       "         2.75862069,  2.75862069,  2.75862069,  2.75862069,  2.75862069,\n",
       "         2.75862069,  2.75862069,  2.75862069,  2.75862069,  2.75862069,\n",
       "         2.75862069,  2.75862069,  2.75862069,  2.75862069,  2.75862069],\n",
       "       [ 3.20689655,  3.20689655,  3.20689655,  3.20689655,  3.20689655,\n",
       "         3.20689655,  3.20689655,  3.20689655,  3.20689655,  3.20689655,\n",
       "         3.20689655,  3.20689655,  3.20689655,  3.20689655,  3.20689655,\n",
       "         3.20689655,  3.20689655,  3.20689655,  3.20689655,  3.20689655,\n",
       "         3.20689655,  3.20689655,  3.20689655,  3.20689655,  3.20689655,\n",
       "         3.20689655,  3.20689655,  3.20689655,  3.20689655,  3.20689655],\n",
       "       [ 3.65517241,  3.65517241,  3.65517241,  3.65517241,  3.65517241,\n",
       "         3.65517241,  3.65517241,  3.65517241,  3.65517241,  3.65517241,\n",
       "         3.65517241,  3.65517241,  3.65517241,  3.65517241,  3.65517241,\n",
       "         3.65517241,  3.65517241,  3.65517241,  3.65517241,  3.65517241,\n",
       "         3.65517241,  3.65517241,  3.65517241,  3.65517241,  3.65517241,\n",
       "         3.65517241,  3.65517241,  3.65517241,  3.65517241,  3.65517241],\n",
       "       [ 4.10344828,  4.10344828,  4.10344828,  4.10344828,  4.10344828,\n",
       "         4.10344828,  4.10344828,  4.10344828,  4.10344828,  4.10344828,\n",
       "         4.10344828,  4.10344828,  4.10344828,  4.10344828,  4.10344828,\n",
       "         4.10344828,  4.10344828,  4.10344828,  4.10344828,  4.10344828,\n",
       "         4.10344828,  4.10344828,  4.10344828,  4.10344828,  4.10344828,\n",
       "         4.10344828,  4.10344828,  4.10344828,  4.10344828,  4.10344828],\n",
       "       [ 4.55172414,  4.55172414,  4.55172414,  4.55172414,  4.55172414,\n",
       "         4.55172414,  4.55172414,  4.55172414,  4.55172414,  4.55172414,\n",
       "         4.55172414,  4.55172414,  4.55172414,  4.55172414,  4.55172414,\n",
       "         4.55172414,  4.55172414,  4.55172414,  4.55172414,  4.55172414,\n",
       "         4.55172414,  4.55172414,  4.55172414,  4.55172414,  4.55172414,\n",
       "         4.55172414,  4.55172414,  4.55172414,  4.55172414,  4.55172414],\n",
       "       [ 5.        ,  5.        ,  5.        ,  5.        ,  5.        ,\n",
       "         5.        ,  5.        ,  5.        ,  5.        ,  5.        ,\n",
       "         5.        ,  5.        ,  5.        ,  5.        ,  5.        ,\n",
       "         5.        ,  5.        ,  5.        ,  5.        ,  5.        ,\n",
       "         5.        ,  5.        ,  5.        ,  5.        ,  5.        ,\n",
       "         5.        ,  5.        ,  5.        ,  5.        ,  5.        ]])"
      ]
     },
     "execution_count": 25,
     "metadata": {},
     "output_type": "execute_result"
    }
   ],
   "source": [
    "Y"
   ]
  },
  {
   "cell_type": "code",
   "execution_count": 27,
   "metadata": {},
   "outputs": [
    {
     "data": {
      "text/plain": [
       "array([[-6.        , -5.68965517, -5.37931034, -5.06896552, -4.75862069,\n",
       "        -4.44827586, -4.13793103, -3.82758621, -3.51724138, -3.20689655,\n",
       "        -2.89655172, -2.5862069 , -2.27586207, -1.96551724, -1.65517241,\n",
       "        -1.34482759, -1.03448276, -0.72413793, -0.4137931 , -0.10344828,\n",
       "         0.20689655,  0.51724138,  0.82758621,  1.13793103,  1.44827586,\n",
       "         1.75862069,  2.06896552,  2.37931034,  2.68965517,  3.        ],\n",
       "       [-6.        , -5.68965517, -5.37931034, -5.06896552, -4.75862069,\n",
       "        -4.44827586, -4.13793103, -3.82758621, -3.51724138, -3.20689655,\n",
       "        -2.89655172, -2.5862069 , -2.27586207, -1.96551724, -1.65517241,\n",
       "        -1.34482759, -1.03448276, -0.72413793, -0.4137931 , -0.10344828,\n",
       "         0.20689655,  0.51724138,  0.82758621,  1.13793103,  1.44827586,\n",
       "         1.75862069,  2.06896552,  2.37931034,  2.68965517,  3.        ],\n",
       "       [-6.        , -5.68965517, -5.37931034, -5.06896552, -4.75862069,\n",
       "        -4.44827586, -4.13793103, -3.82758621, -3.51724138, -3.20689655,\n",
       "        -2.89655172, -2.5862069 , -2.27586207, -1.96551724, -1.65517241,\n",
       "        -1.34482759, -1.03448276, -0.72413793, -0.4137931 , -0.10344828,\n",
       "         0.20689655,  0.51724138,  0.82758621,  1.13793103,  1.44827586,\n",
       "         1.75862069,  2.06896552,  2.37931034,  2.68965517,  3.        ],\n",
       "       [-6.        , -5.68965517, -5.37931034, -5.06896552, -4.75862069,\n",
       "        -4.44827586, -4.13793103, -3.82758621, -3.51724138, -3.20689655,\n",
       "        -2.89655172, -2.5862069 , -2.27586207, -1.96551724, -1.65517241,\n",
       "        -1.34482759, -1.03448276, -0.72413793, -0.4137931 , -0.10344828,\n",
       "         0.20689655,  0.51724138,  0.82758621,  1.13793103,  1.44827586,\n",
       "         1.75862069,  2.06896552,  2.37931034,  2.68965517,  3.        ],\n",
       "       [-6.        , -5.68965517, -5.37931034, -5.06896552, -4.75862069,\n",
       "        -4.44827586, -4.13793103, -3.82758621, -3.51724138, -3.20689655,\n",
       "        -2.89655172, -2.5862069 , -2.27586207, -1.96551724, -1.65517241,\n",
       "        -1.34482759, -1.03448276, -0.72413793, -0.4137931 , -0.10344828,\n",
       "         0.20689655,  0.51724138,  0.82758621,  1.13793103,  1.44827586,\n",
       "         1.75862069,  2.06896552,  2.37931034,  2.68965517,  3.        ],\n",
       "       [-6.        , -5.68965517, -5.37931034, -5.06896552, -4.75862069,\n",
       "        -4.44827586, -4.13793103, -3.82758621, -3.51724138, -3.20689655,\n",
       "        -2.89655172, -2.5862069 , -2.27586207, -1.96551724, -1.65517241,\n",
       "        -1.34482759, -1.03448276, -0.72413793, -0.4137931 , -0.10344828,\n",
       "         0.20689655,  0.51724138,  0.82758621,  1.13793103,  1.44827586,\n",
       "         1.75862069,  2.06896552,  2.37931034,  2.68965517,  3.        ],\n",
       "       [-6.        , -5.68965517, -5.37931034, -5.06896552, -4.75862069,\n",
       "        -4.44827586, -4.13793103, -3.82758621, -3.51724138, -3.20689655,\n",
       "        -2.89655172, -2.5862069 , -2.27586207, -1.96551724, -1.65517241,\n",
       "        -1.34482759, -1.03448276, -0.72413793, -0.4137931 , -0.10344828,\n",
       "         0.20689655,  0.51724138,  0.82758621,  1.13793103,  1.44827586,\n",
       "         1.75862069,  2.06896552,  2.37931034,  2.68965517,  3.        ],\n",
       "       [-6.        , -5.68965517, -5.37931034, -5.06896552, -4.75862069,\n",
       "        -4.44827586, -4.13793103, -3.82758621, -3.51724138, -3.20689655,\n",
       "        -2.89655172, -2.5862069 , -2.27586207, -1.96551724, -1.65517241,\n",
       "        -1.34482759, -1.03448276, -0.72413793, -0.4137931 , -0.10344828,\n",
       "         0.20689655,  0.51724138,  0.82758621,  1.13793103,  1.44827586,\n",
       "         1.75862069,  2.06896552,  2.37931034,  2.68965517,  3.        ],\n",
       "       [-6.        , -5.68965517, -5.37931034, -5.06896552, -4.75862069,\n",
       "        -4.44827586, -4.13793103, -3.82758621, -3.51724138, -3.20689655,\n",
       "        -2.89655172, -2.5862069 , -2.27586207, -1.96551724, -1.65517241,\n",
       "        -1.34482759, -1.03448276, -0.72413793, -0.4137931 , -0.10344828,\n",
       "         0.20689655,  0.51724138,  0.82758621,  1.13793103,  1.44827586,\n",
       "         1.75862069,  2.06896552,  2.37931034,  2.68965517,  3.        ],\n",
       "       [-6.        , -5.68965517, -5.37931034, -5.06896552, -4.75862069,\n",
       "        -4.44827586, -4.13793103, -3.82758621, -3.51724138, -3.20689655,\n",
       "        -2.89655172, -2.5862069 , -2.27586207, -1.96551724, -1.65517241,\n",
       "        -1.34482759, -1.03448276, -0.72413793, -0.4137931 , -0.10344828,\n",
       "         0.20689655,  0.51724138,  0.82758621,  1.13793103,  1.44827586,\n",
       "         1.75862069,  2.06896552,  2.37931034,  2.68965517,  3.        ],\n",
       "       [-6.        , -5.68965517, -5.37931034, -5.06896552, -4.75862069,\n",
       "        -4.44827586, -4.13793103, -3.82758621, -3.51724138, -3.20689655,\n",
       "        -2.89655172, -2.5862069 , -2.27586207, -1.96551724, -1.65517241,\n",
       "        -1.34482759, -1.03448276, -0.72413793, -0.4137931 , -0.10344828,\n",
       "         0.20689655,  0.51724138,  0.82758621,  1.13793103,  1.44827586,\n",
       "         1.75862069,  2.06896552,  2.37931034,  2.68965517,  3.        ],\n",
       "       [-6.        , -5.68965517, -5.37931034, -5.06896552, -4.75862069,\n",
       "        -4.44827586, -4.13793103, -3.82758621, -3.51724138, -3.20689655,\n",
       "        -2.89655172, -2.5862069 , -2.27586207, -1.96551724, -1.65517241,\n",
       "        -1.34482759, -1.03448276, -0.72413793, -0.4137931 , -0.10344828,\n",
       "         0.20689655,  0.51724138,  0.82758621,  1.13793103,  1.44827586,\n",
       "         1.75862069,  2.06896552,  2.37931034,  2.68965517,  3.        ],\n",
       "       [-6.        , -5.68965517, -5.37931034, -5.06896552, -4.75862069,\n",
       "        -4.44827586, -4.13793103, -3.82758621, -3.51724138, -3.20689655,\n",
       "        -2.89655172, -2.5862069 , -2.27586207, -1.96551724, -1.65517241,\n",
       "        -1.34482759, -1.03448276, -0.72413793, -0.4137931 , -0.10344828,\n",
       "         0.20689655,  0.51724138,  0.82758621,  1.13793103,  1.44827586,\n",
       "         1.75862069,  2.06896552,  2.37931034,  2.68965517,  3.        ],\n",
       "       [-6.        , -5.68965517, -5.37931034, -5.06896552, -4.75862069,\n",
       "        -4.44827586, -4.13793103, -3.82758621, -3.51724138, -3.20689655,\n",
       "        -2.89655172, -2.5862069 , -2.27586207, -1.96551724, -1.65517241,\n",
       "        -1.34482759, -1.03448276, -0.72413793, -0.4137931 , -0.10344828,\n",
       "         0.20689655,  0.51724138,  0.82758621,  1.13793103,  1.44827586,\n",
       "         1.75862069,  2.06896552,  2.37931034,  2.68965517,  3.        ],\n",
       "       [-6.        , -5.68965517, -5.37931034, -5.06896552, -4.75862069,\n",
       "        -4.44827586, -4.13793103, -3.82758621, -3.51724138, -3.20689655,\n",
       "        -2.89655172, -2.5862069 , -2.27586207, -1.96551724, -1.65517241,\n",
       "        -1.34482759, -1.03448276, -0.72413793, -0.4137931 , -0.10344828,\n",
       "         0.20689655,  0.51724138,  0.82758621,  1.13793103,  1.44827586,\n",
       "         1.75862069,  2.06896552,  2.37931034,  2.68965517,  3.        ],\n",
       "       [-6.        , -5.68965517, -5.37931034, -5.06896552, -4.75862069,\n",
       "        -4.44827586, -4.13793103, -3.82758621, -3.51724138, -3.20689655,\n",
       "        -2.89655172, -2.5862069 , -2.27586207, -1.96551724, -1.65517241,\n",
       "        -1.34482759, -1.03448276, -0.72413793, -0.4137931 , -0.10344828,\n",
       "         0.20689655,  0.51724138,  0.82758621,  1.13793103,  1.44827586,\n",
       "         1.75862069,  2.06896552,  2.37931034,  2.68965517,  3.        ],\n",
       "       [-6.        , -5.68965517, -5.37931034, -5.06896552, -4.75862069,\n",
       "        -4.44827586, -4.13793103, -3.82758621, -3.51724138, -3.20689655,\n",
       "        -2.89655172, -2.5862069 , -2.27586207, -1.96551724, -1.65517241,\n",
       "        -1.34482759, -1.03448276, -0.72413793, -0.4137931 , -0.10344828,\n",
       "         0.20689655,  0.51724138,  0.82758621,  1.13793103,  1.44827586,\n",
       "         1.75862069,  2.06896552,  2.37931034,  2.68965517,  3.        ],\n",
       "       [-6.        , -5.68965517, -5.37931034, -5.06896552, -4.75862069,\n",
       "        -4.44827586, -4.13793103, -3.82758621, -3.51724138, -3.20689655,\n",
       "        -2.89655172, -2.5862069 , -2.27586207, -1.96551724, -1.65517241,\n",
       "        -1.34482759, -1.03448276, -0.72413793, -0.4137931 , -0.10344828,\n",
       "         0.20689655,  0.51724138,  0.82758621,  1.13793103,  1.44827586,\n",
       "         1.75862069,  2.06896552,  2.37931034,  2.68965517,  3.        ],\n",
       "       [-6.        , -5.68965517, -5.37931034, -5.06896552, -4.75862069,\n",
       "        -4.44827586, -4.13793103, -3.82758621, -3.51724138, -3.20689655,\n",
       "        -2.89655172, -2.5862069 , -2.27586207, -1.96551724, -1.65517241,\n",
       "        -1.34482759, -1.03448276, -0.72413793, -0.4137931 , -0.10344828,\n",
       "         0.20689655,  0.51724138,  0.82758621,  1.13793103,  1.44827586,\n",
       "         1.75862069,  2.06896552,  2.37931034,  2.68965517,  3.        ],\n",
       "       [-6.        , -5.68965517, -5.37931034, -5.06896552, -4.75862069,\n",
       "        -4.44827586, -4.13793103, -3.82758621, -3.51724138, -3.20689655,\n",
       "        -2.89655172, -2.5862069 , -2.27586207, -1.96551724, -1.65517241,\n",
       "        -1.34482759, -1.03448276, -0.72413793, -0.4137931 , -0.10344828,\n",
       "         0.20689655,  0.51724138,  0.82758621,  1.13793103,  1.44827586,\n",
       "         1.75862069,  2.06896552,  2.37931034,  2.68965517,  3.        ],\n",
       "       [-6.        , -5.68965517, -5.37931034, -5.06896552, -4.75862069,\n",
       "        -4.44827586, -4.13793103, -3.82758621, -3.51724138, -3.20689655,\n",
       "        -2.89655172, -2.5862069 , -2.27586207, -1.96551724, -1.65517241,\n",
       "        -1.34482759, -1.03448276, -0.72413793, -0.4137931 , -0.10344828,\n",
       "         0.20689655,  0.51724138,  0.82758621,  1.13793103,  1.44827586,\n",
       "         1.75862069,  2.06896552,  2.37931034,  2.68965517,  3.        ],\n",
       "       [-6.        , -5.68965517, -5.37931034, -5.06896552, -4.75862069,\n",
       "        -4.44827586, -4.13793103, -3.82758621, -3.51724138, -3.20689655,\n",
       "        -2.89655172, -2.5862069 , -2.27586207, -1.96551724, -1.65517241,\n",
       "        -1.34482759, -1.03448276, -0.72413793, -0.4137931 , -0.10344828,\n",
       "         0.20689655,  0.51724138,  0.82758621,  1.13793103,  1.44827586,\n",
       "         1.75862069,  2.06896552,  2.37931034,  2.68965517,  3.        ],\n",
       "       [-6.        , -5.68965517, -5.37931034, -5.06896552, -4.75862069,\n",
       "        -4.44827586, -4.13793103, -3.82758621, -3.51724138, -3.20689655,\n",
       "        -2.89655172, -2.5862069 , -2.27586207, -1.96551724, -1.65517241,\n",
       "        -1.34482759, -1.03448276, -0.72413793, -0.4137931 , -0.10344828,\n",
       "         0.20689655,  0.51724138,  0.82758621,  1.13793103,  1.44827586,\n",
       "         1.75862069,  2.06896552,  2.37931034,  2.68965517,  3.        ],\n",
       "       [-6.        , -5.68965517, -5.37931034, -5.06896552, -4.75862069,\n",
       "        -4.44827586, -4.13793103, -3.82758621, -3.51724138, -3.20689655,\n",
       "        -2.89655172, -2.5862069 , -2.27586207, -1.96551724, -1.65517241,\n",
       "        -1.34482759, -1.03448276, -0.72413793, -0.4137931 , -0.10344828,\n",
       "         0.20689655,  0.51724138,  0.82758621,  1.13793103,  1.44827586,\n",
       "         1.75862069,  2.06896552,  2.37931034,  2.68965517,  3.        ],\n",
       "       [-6.        , -5.68965517, -5.37931034, -5.06896552, -4.75862069,\n",
       "        -4.44827586, -4.13793103, -3.82758621, -3.51724138, -3.20689655,\n",
       "        -2.89655172, -2.5862069 , -2.27586207, -1.96551724, -1.65517241,\n",
       "        -1.34482759, -1.03448276, -0.72413793, -0.4137931 , -0.10344828,\n",
       "         0.20689655,  0.51724138,  0.82758621,  1.13793103,  1.44827586,\n",
       "         1.75862069,  2.06896552,  2.37931034,  2.68965517,  3.        ],\n",
       "       [-6.        , -5.68965517, -5.37931034, -5.06896552, -4.75862069,\n",
       "        -4.44827586, -4.13793103, -3.82758621, -3.51724138, -3.20689655,\n",
       "        -2.89655172, -2.5862069 , -2.27586207, -1.96551724, -1.65517241,\n",
       "        -1.34482759, -1.03448276, -0.72413793, -0.4137931 , -0.10344828,\n",
       "         0.20689655,  0.51724138,  0.82758621,  1.13793103,  1.44827586,\n",
       "         1.75862069,  2.06896552,  2.37931034,  2.68965517,  3.        ],\n",
       "       [-6.        , -5.68965517, -5.37931034, -5.06896552, -4.75862069,\n",
       "        -4.44827586, -4.13793103, -3.82758621, -3.51724138, -3.20689655,\n",
       "        -2.89655172, -2.5862069 , -2.27586207, -1.96551724, -1.65517241,\n",
       "        -1.34482759, -1.03448276, -0.72413793, -0.4137931 , -0.10344828,\n",
       "         0.20689655,  0.51724138,  0.82758621,  1.13793103,  1.44827586,\n",
       "         1.75862069,  2.06896552,  2.37931034,  2.68965517,  3.        ],\n",
       "       [-6.        , -5.68965517, -5.37931034, -5.06896552, -4.75862069,\n",
       "        -4.44827586, -4.13793103, -3.82758621, -3.51724138, -3.20689655,\n",
       "        -2.89655172, -2.5862069 , -2.27586207, -1.96551724, -1.65517241,\n",
       "        -1.34482759, -1.03448276, -0.72413793, -0.4137931 , -0.10344828,\n",
       "         0.20689655,  0.51724138,  0.82758621,  1.13793103,  1.44827586,\n",
       "         1.75862069,  2.06896552,  2.37931034,  2.68965517,  3.        ],\n",
       "       [-6.        , -5.68965517, -5.37931034, -5.06896552, -4.75862069,\n",
       "        -4.44827586, -4.13793103, -3.82758621, -3.51724138, -3.20689655,\n",
       "        -2.89655172, -2.5862069 , -2.27586207, -1.96551724, -1.65517241,\n",
       "        -1.34482759, -1.03448276, -0.72413793, -0.4137931 , -0.10344828,\n",
       "         0.20689655,  0.51724138,  0.82758621,  1.13793103,  1.44827586,\n",
       "         1.75862069,  2.06896552,  2.37931034,  2.68965517,  3.        ],\n",
       "       [-6.        , -5.68965517, -5.37931034, -5.06896552, -4.75862069,\n",
       "        -4.44827586, -4.13793103, -3.82758621, -3.51724138, -3.20689655,\n",
       "        -2.89655172, -2.5862069 , -2.27586207, -1.96551724, -1.65517241,\n",
       "        -1.34482759, -1.03448276, -0.72413793, -0.4137931 , -0.10344828,\n",
       "         0.20689655,  0.51724138,  0.82758621,  1.13793103,  1.44827586,\n",
       "         1.75862069,  2.06896552,  2.37931034,  2.68965517,  3.        ]])"
      ]
     },
     "execution_count": 27,
     "metadata": {},
     "output_type": "execute_result"
    }
   ],
   "source": [
    "X,Y = np.meshgrid(np.linspace(-6,3,30), np.linspace(-8,5,30))\n",
    "X"
   ]
  },
  {
   "cell_type": "markdown",
   "metadata": {},
   "source": [
    "#### ravel 拉平法"
   ]
  },
  {
   "cell_type": "code",
   "execution_count": 32,
   "metadata": {},
   "outputs": [],
   "source": [
    "X = X.ravel()\n",
    "Y = Y.ravel()"
   ]
  },
  {
   "cell_type": "code",
   "execution_count": 33,
   "metadata": {},
   "outputs": [
    {
     "data": {
      "text/plain": [
       "<matplotlib.collections.PathCollection at 0x1a1987aac8>"
      ]
     },
     "execution_count": 33,
     "metadata": {},
     "output_type": "execute_result"
    },
    {
     "data": {
      "image/png": "[encoded data removed]",
      "text/plain": [
       "<matplotlib.figure.Figure at 0x1a19697240>"
      ]
     },
     "metadata": {},
     "output_type": "display_data"
    }
   ],
   "source": [
    "plt.scatter(X, Y)"
   ]
  },
  {
   "cell_type": "markdown",
   "metadata": {},
   "source": [
    "#### zip 高級組合法"
   ]
  },
  {
   "cell_type": "code",
   "execution_count": 34,
   "metadata": {
    "collapsed": true
   },
   "outputs": [],
   "source": [
    "xx = [1,2,3,4]\n",
    "yy = [5,6,7,8]"
   ]
  },
  {
   "cell_type": "code",
   "execution_count": 35,
   "metadata": {},
   "outputs": [
    {
     "data": {
      "text/plain": [
       "[(1, 5), (2, 6), (3, 7), (4, 8)]"
      ]
     },
     "execution_count": 35,
     "metadata": {},
     "output_type": "execute_result"
    }
   ],
   "source": [
    "list(zip(xx,yy))"
   ]
  },
  {
   "cell_type": "code",
   "execution_count": 36,
   "metadata": {
    "collapsed": true
   },
   "outputs": [],
   "source": [
    "Z = clf.predict(list(zip(X,Y)))"
   ]
  },
  {
   "cell_type": "code",
   "execution_count": 37,
   "metadata": {},
   "outputs": [
    {
     "data": {
      "text/plain": [
       "<matplotlib.collections.PathCollection at 0x1a1996db38>"
      ]
     },
     "execution_count": 37,
     "metadata": {},
     "output_type": "execute_result"
    },
    {
     "data": {
      "image/png": "[encoded data removed]",
      "text/plain": [
       "<matplotlib.figure.Figure at 0x1a198a53c8>"
      ]
     },
     "metadata": {},
     "output_type": "display_data"
    }
   ],
   "source": [
    "plt.scatter(X, Y, s=50, c=Z)"
   ]
  },
  {
   "cell_type": "code",
   "execution_count": null,
   "metadata": {
    "collapsed": true
   },
   "outputs": [],
   "source": []
  }
 ],
 "metadata": {
  "kernelspec": {
   "display_name": "Python 3",
   "language": "python",
   "name": "python3"
  },
  "language_info": {
   "codemirror_mode": {
    "name": "ipython",
    "version": 3
   },
   "file_extension": ".py",
   "mimetype": "text/x-python",
   "name": "python",
   "nbconvert_exporter": "python",
   "pygments_lexer": "ipython3",
   "version": "3.6.2"
  }
 },
 "nbformat": 4,
 "nbformat_minor": 2
}
