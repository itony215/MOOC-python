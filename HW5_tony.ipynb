{
 "cells": [
  {
   "cell_type": "code",
   "execution_count": 1,
   "metadata": {
    "collapsed": true
   },
   "outputs": [],
   "source": [
    "%matplotlib inline\n",
    "import numpy as np\n",
    "import matplotlib.pyplot as plt\n",
    "import pandas as pd"
   ]
  },
  {
   "cell_type": "markdown",
   "metadata": {},
   "source": [
    "## 第一題_算閏年：\n",
    "請定義一個函式，讀進一個年份，輸出是不是閏年。\n",
    "\n",
    "提示：\n",
    "目前使用的格里高利曆閏年規則如下：\n",
    "\n",
    "4的倍數是可能的。\n",
    "100的倍數是不可能的。\n",
    "400的倍數是可能的。"
   ]
  },
  {
   "cell_type": "code",
   "execution_count": 2,
   "metadata": {
    "collapsed": true
   },
   "outputs": [],
   "source": [
    "def leapyear(x):\n",
    "    if((x%400==0)|((x%4==0)&(x%100!=0))):\n",
    "        return True\n",
    "    else:\n",
    "        return False"
   ]
  },
  {
   "cell_type": "code",
   "execution_count": 3,
   "metadata": {},
   "outputs": [
    {
     "data": {
      "text/plain": [
       "True"
      ]
     },
     "execution_count": 3,
     "metadata": {},
     "output_type": "execute_result"
    }
   ],
   "source": [
    "leapyear(400)"
   ]
  },
  {
   "cell_type": "markdown",
   "metadata": {},
   "source": [
    "## 第二題_請實作五乘五矩陣的矩陣加法函式：\n",
    "    Example:\n",
    "\n",
    "        def matrix_plus(m1+m2):\n",
    "                    .\n",
    "                    .\n",
    "                    ."
   ]
  },
  {
   "cell_type": "code",
   "execution_count": 4,
   "metadata": {
    "collapsed": true
   },
   "outputs": [],
   "source": [
    "def matrix_plus(m1,m2):\n",
    "    if (m1.shape != m2.shape):\n",
    "        return '不同大小無法相加'\n",
    "    else:\n",
    "        result = np.zeros((m1.shape[0],m1.shape[1]))\n",
    "        for i in range(m1.shape[0]):\n",
    "            for j in range(m1.shape[1]):\n",
    "                result[i,j] = m1[i,j] + m2[i,j]\n",
    "        return result"
   ]
  },
  {
   "cell_type": "code",
   "execution_count": 5,
   "metadata": {},
   "outputs": [
    {
     "data": {
      "text/plain": [
       "array([[  2.,   3.,   4.,   5.,   6.],\n",
       "       [  3.,   4.,   5.,   6.,   7.],\n",
       "       [  4.,   5.,   6.,   7.,   8.],\n",
       "       [  5.,   6.,   7.,   8.,   9.],\n",
       "       [  6.,   7.,   8.,   9.,  10.]])"
      ]
     },
     "execution_count": 5,
     "metadata": {},
     "output_type": "execute_result"
    }
   ],
   "source": [
    "m1 = np.matrix([[1,2,3,4,5],[1,2,3,4,5],[1,2,3,4,5],[1,2,3,4,5],[1,2,3,4,5]])\n",
    "m2 = np.matrix([[1,1,1,1,1],[2,2,2,2,2],[3,3,3,3,3],[4,4,4,4,4],[5,5,5,5,5]])\n",
    "matrix_plus(m1,m2)"
   ]
  },
  {
   "cell_type": "markdown",
   "metadata": {},
   "source": [
    "## 第三題_錄取分數表格\n",
    "小明今年考大學\n",
    "\n",
    "依照 [“國文”, “英文”, “數甲”, “數乙”, “物理”, “化學”, “生物”, “歷史”, “地理”, “公民”]\n",
    "\n",
    "他的分數分別是 [86.5, 79.4, 88.2, 96.5, 86.3, 76.8, 96.1, 78.5, 82.4, 88.6]\n",
    "\n",
    "而他所想申請的大學各系採計的科目權重分別是\n",
    "\n",
    "{\n",
    "\n",
    "“土語系”: [2, 2, 0, 1, 0, 0, 0, 1, 1, 0],\n",
    "\n",
    "“財政系”: [1, 1.5, 0, 1.5, 0, 0, 0, 0, 0, 0],\n",
    "\n",
    "“金融系”: [1, 1.5, 0, 2, 0, 0, 0, 0, 0, 0],\n",
    "\n",
    "“國貿系”: [1.5, 2, 0, 2, 0, 0, 0, 0, 0, 0],\n",
    "\n",
    "“會計系”: [1.5, 2, 0, 2, 0, 0, 0, 1, 1, 0],\n",
    "\n",
    "“法律系”: [1, 2, 0, 1, 0, 0, 0, 1, 0, 1],\n",
    "\n",
    "“公行系”: [1, 1.5, 0, 1.25, 0, 0, 0, 0, 0, 1.25],\n",
    "\n",
    "“應數系”: [1, 1, 1.5, 0, 1, 1, 0, 0, 0, 0],\n",
    "\n",
    "“教育系”: [1.5, 2, 0, 1.25, 0, 0, 0, 1, 1, 0]\n",
    "\n",
    "}\n",
    "\n",
    "請幫他做出一個表格\n",
    "\n",
    "第一欄顯示科系\n",
    "\n",
    "接下來顯示權重 並標示科目\n",
    "\n",
    "最後一欄顯示加權分數\n",
    "\n",
    "Hint\n",
    "* 在dataframe最左邊那欄叫index 最上面叫columns\n",
    "* 小明的分數跟各科系權重可以直接複製上面的文字使用\n",
    "* 表格裡面的內容可以用for迴圈跑過個科系 取出該科系的權重 然後整理成一個二維的list\n",
    "* 加權分數的算法可以試試看直接把表格跟分數相乘 會有意想不到的結果喔\n",
    "* 如何算加權分數可以參考影片5.4: 「用熊貓做基本數據分析」"
   ]
  },
  {
   "cell_type": "code",
   "execution_count": null,
   "metadata": {
    "collapsed": true
   },
   "outputs": [],
   "source": []
  },
  {
   "cell_type": "code",
   "execution_count": null,
   "metadata": {
    "collapsed": true
   },
   "outputs": [],
   "source": []
  }
 ],
 "metadata": {
  "kernelspec": {
   "display_name": "Python 3",
   "language": "python",
   "name": "python3"
  },
  "language_info": {
   "codemirror_mode": {
    "name": "ipython",
    "version": 3
   },
   "file_extension": ".py",
   "mimetype": "text/x-python",
   "name": "python",
   "nbconvert_exporter": "python",
   "pygments_lexer": "ipython3",
   "version": "3.6.2"
  }
 },
 "nbformat": 4,
 "nbformat_minor": 2
}
