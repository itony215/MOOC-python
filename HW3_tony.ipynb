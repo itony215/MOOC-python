{
 "cells": [
  {
   "cell_type": "code",
   "execution_count": 1,
   "metadata": {
    "collapsed": true
   },
   "outputs": [],
   "source": [
    "%matplotlib inline\n",
    "import numpy as np\n",
    "import matplotlib.pyplot as plt"
   ]
  },
  {
   "cell_type": "markdown",
   "metadata": {},
   "source": [
    "### 第一題"
   ]
  },
  {
   "cell_type": "code",
   "execution_count": 24,
   "metadata": {
    "collapsed": true
   },
   "outputs": [],
   "source": [
    "m = np.array([[0,1,10],[2,6,7]])"
   ]
  },
  {
   "cell_type": "code",
   "execution_count": 25,
   "metadata": {},
   "outputs": [
    {
     "data": {
      "text/plain": [
       "array([[ 0,  1, 10],\n",
       "       [ 2,  6,  7]])"
      ]
     },
     "execution_count": 25,
     "metadata": {},
     "output_type": "execute_result"
    }
   ],
   "source": [
    "m"
   ]
  },
  {
   "cell_type": "code",
   "execution_count": 26,
   "metadata": {
    "collapsed": true
   },
   "outputs": [],
   "source": [
    "m = m.reshape(6)\n",
    "for i in range(len(m)):\n",
    "    if m[i] >=1:\n",
    "        m[i] = 1\n",
    "    else:\n",
    "        m[i] = 0"
   ]
  },
  {
   "cell_type": "code",
   "execution_count": 27,
   "metadata": {},
   "outputs": [
    {
     "data": {
      "text/plain": [
       "array([0, 1, 1, 1, 1, 1])"
      ]
     },
     "execution_count": 27,
     "metadata": {},
     "output_type": "execute_result"
    }
   ],
   "source": [
    "m"
   ]
  },
  {
   "cell_type": "markdown",
   "metadata": {},
   "source": [
    "### 第二題"
   ]
  },
  {
   "cell_type": "code",
   "execution_count": 6,
   "metadata": {
    "collapsed": true
   },
   "outputs": [],
   "source": [
    "A = np.random.randint(0,100,50)\n",
    "B = np.random.randint(0,100,50)\n",
    "C = np.random.randint(0,100,50)\n",
    "weights = np.array([0.25,0.25,0.25,0.15,0.10])\n",
    "A = A.reshape(10,5)\n",
    "B = B.reshape(10,5)\n",
    "C = C.reshape(10,5)"
   ]
  },
  {
   "cell_type": "code",
   "execution_count": 7,
   "metadata": {},
   "outputs": [
    {
     "name": "stdout",
     "output_type": "stream",
     "text": [
      "[ 43.165  56.095  47.375]\n"
     ]
    }
   ],
   "source": [
    "A2 = np.average(np.dot(A , weights))\n",
    "B2 = np.average(np.dot(B , weights))\n",
    "C2 = np.average(np.dot(C , weights))\n",
    "result = np.array([A2,B2,C2])\n",
    "print(result)"
   ]
  },
  {
   "cell_type": "markdown",
   "metadata": {},
   "source": [
    "### 世紀魔鬼挑戰題（做完可以直接得到一百分）"
   ]
  },
  {
   "cell_type": "code",
   "execution_count": 22,
   "metadata": {
    "collapsed": true
   },
   "outputs": [],
   "source": [
    "breakfast_list = ['古早味', '德合香', '布朗奇早餐', '星巴克', '小貓咪', '傳香飯糰', '米塔', '麥當勞', '摩斯', '7-11', '全家']\n",
    "lunch_and_dinner_list = ['小公寓', '波波恰恰', '湯饌', '享窩咖啡', '湯包', '殺人魔王', '呷麵騎士', '提洛斯', '蝴蝶漾', '東京小城', '金鰭', '樂山', 'My麵屋', '李氏餐酒館', '里克', '水煎包', '憩賢樓', '高句麗', '魯智深', '敏忠', '大正亭', '阿里郎', '鬼匠', 'Juicy Bun', '滇味廚房']\n",
    "high_price_list = ['星巴克', '摩斯', '小公寓', '享窩咖啡', '金鰭', '李氏餐酒館', '里克', 'Juicy Bun', '滇味廚房']\n",
    "snack_list = ['豆花', '政大烤場', '丐幫滷味', '鹹水雞']"
   ]
  },
  {
   "cell_type": "code",
   "execution_count": 28,
   "metadata": {},
   "outputs": [
    {
     "name": "stdout",
     "output_type": "stream",
     "text": [
      "早餐: 傳香飯糰\n",
      "午餐: 高句麗\n",
      "晚餐: 湯包\n",
      "宵夜: 丐幫滷味\n"
     ]
    }
   ],
   "source": [
    "b=''\n",
    "c=''\n",
    "while b ==c or high_price_count<0:\n",
    "    high_price_count = 1\n",
    "    a = np.random.choice(breakfast_list)\n",
    "    b , c = np.random.choice(lunch_and_dinner_list,2)\n",
    "    if a in high_price_list:\n",
    "        high_price_count = high_price_count - 1\n",
    "    if b in high_price_list:\n",
    "        high_price_count = high_price_count - 1\n",
    "    if c in high_price_list:\n",
    "        high_price_count = high_price_count - 1\n",
    "\n",
    "print(\"早餐: {}\\n午餐: {}\\n晚餐: {}\".format(a, b, c))\n",
    "if high_price_count == 1:\n",
    "    d = np.random.choice(snack_list)\n",
    "    print(\"宵夜: {}\".format(d))"
   ]
  },
  {
   "cell_type": "code",
   "execution_count": null,
   "metadata": {
    "collapsed": true
   },
   "outputs": [],
   "source": []
  }
 ],
 "metadata": {
  "kernelspec": {
   "display_name": "Python 3",
   "language": "python",
   "name": "python3"
  },
  "language_info": {
   "codemirror_mode": {
    "name": "ipython",
    "version": 3
   },
   "file_extension": ".py",
   "mimetype": "text/x-python",
   "name": "python",
   "nbconvert_exporter": "python",
   "pygments_lexer": "ipython3",
   "version": "3.6.2"
  }
 },
 "nbformat": 4,
 "nbformat_minor": 2
}
