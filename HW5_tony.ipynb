{
 "cells": [
  {
   "cell_type": "code",
   "execution_count": 6,
   "metadata": {
    "collapsed": true
   },
   "outputs": [],
   "source": [
    "%matplotlib inline\n",
    "import numpy as np\n",
    "import matplotlib.pyplot as plt\n",
    "import pandas as pd"
   ]
  },
  {
   "cell_type": "markdown",
   "metadata": {},
   "source": [
    "## 第一題_算閏年：\n",
    "請定義一個函式，讀進一個年份，輸出是不是閏年。\n",
    "\n",
    "提示：\n",
    "目前使用的格里高利曆閏年規則如下：\n",
    "\n",
    "4的倍數是可能的。\n",
    "100的倍數是不可能的。\n",
    "400的倍數是可能的。"
   ]
  },
  {
   "cell_type": "code",
   "execution_count": 7,
   "metadata": {
    "collapsed": true
   },
   "outputs": [],
   "source": [
    "def leapyear(x):\n",
    "    if((x%400==0)|((x%4==0)&(x%100!=0))):\n",
    "        return True\n",
    "    else:\n",
    "        return False"
   ]
  },
  {
   "cell_type": "code",
   "execution_count": 8,
   "metadata": {},
   "outputs": [
    {
     "data": {
      "text/plain": [
       "True"
      ]
     },
     "execution_count": 8,
     "metadata": {},
     "output_type": "execute_result"
    }
   ],
   "source": [
    "leapyear(400)"
   ]
  },
  {
   "cell_type": "markdown",
   "metadata": {},
   "source": [
    "## 第二題_請實作五乘五矩陣的矩陣加法函式：\n",
    "    Example:\n",
    "\n",
    "        def matrix_plus(m1+m2):\n",
    "                    .\n",
    "                    .\n",
    "                    ."
   ]
  },
  {
   "cell_type": "code",
   "execution_count": 9,
   "metadata": {
    "collapsed": true
   },
   "outputs": [],
   "source": [
    "def matrix_plus(m1,m2):\n",
    "    if (m1.shape != m2.shape):\n",
    "        return '不同大小無法相加'\n",
    "    else:\n",
    "        result = np.zeros((m1.shape[0],m1.shape[1]))\n",
    "        for i in range(m1.shape[0]):\n",
    "            for j in range(m1.shape[1]):\n",
    "                result[i,j] = m1[i,j] + m2[i,j]\n",
    "        return result"
   ]
  },
  {
   "cell_type": "code",
   "execution_count": 10,
   "metadata": {},
   "outputs": [
    {
     "data": {
      "text/plain": [
       "array([[  2.,   3.,   4.,   5.,   6.],\n",
       "       [  3.,   4.,   5.,   6.,   7.],\n",
       "       [  4.,   5.,   6.,   7.,   8.],\n",
       "       [  5.,   6.,   7.,   8.,   9.],\n",
       "       [  6.,   7.,   8.,   9.,  10.]])"
      ]
     },
     "execution_count": 10,
     "metadata": {},
     "output_type": "execute_result"
    }
   ],
   "source": [
    "m1 = np.matrix([[1,2,3,4,5],[1,2,3,4,5],[1,2,3,4,5],[1,2,3,4,5],[1,2,3,4,5]])\n",
    "m2 = np.matrix([[1,1,1,1,1],[2,2,2,2,2],[3,3,3,3,3],[4,4,4,4,4],[5,5,5,5,5]])\n",
    "matrix_plus(m1,m2)"
   ]
  },
  {
   "cell_type": "markdown",
   "metadata": {},
   "source": [
    "## 第三題_錄取分數表格\n",
    "小明今年考大學\n",
    "\n",
    "依照 [“國文”, “英文”, “數甲”, “數乙”, “物理”, “化學”, “生物”, “歷史”, “地理”, “公民”]\n",
    "\n",
    "他的分數分別是 [86.5, 79.4, 88.2, 96.5, 86.3, 76.8, 96.1, 78.5, 82.4, 88.6]\n",
    "\n",
    "而他所想申請的大學各系採計的科目權重分別是\n",
    "\n",
    "{\n",
    "\n",
    "“土語系”: [2, 2, 0, 1, 0, 0, 0, 1, 1, 0],\n",
    "\n",
    "“財政系”: [1, 1.5, 0, 1.5, 0, 0, 0, 0, 0, 0],\n",
    "\n",
    "“金融系”: [1, 1.5, 0, 2, 0, 0, 0, 0, 0, 0],\n",
    "\n",
    "“國貿系”: [1.5, 2, 0, 2, 0, 0, 0, 0, 0, 0],\n",
    "\n",
    "“會計系”: [1.5, 2, 0, 2, 0, 0, 0, 1, 1, 0],\n",
    "\n",
    "“法律系”: [1, 2, 0, 1, 0, 0, 0, 1, 0, 1],\n",
    "\n",
    "“公行系”: [1, 1.5, 0, 1.25, 0, 0, 0, 0, 0, 1.25],\n",
    "\n",
    "“應數系”: [1, 1, 1.5, 0, 1, 1, 0, 0, 0, 0],\n",
    "\n",
    "“教育系”: [1.5, 2, 0, 1.25, 0, 0, 0, 1, 1, 0]\n",
    "\n",
    "}\n",
    "\n",
    "請幫他做出一個表格\n",
    "\n",
    "第一欄顯示科系\n",
    "\n",
    "接下來顯示權重 並標示科目\n",
    "\n",
    "最後一欄顯示加權分數\n",
    "\n",
    "Hint\n",
    "* 在dataframe最左邊那欄叫index 最上面叫columns\n",
    "* 小明的分數跟各科系權重可以直接複製上面的文字使用\n",
    "* 表格裡面的內容可以用for迴圈跑過個科系 取出該科系的權重 然後整理成一個二維的list\n",
    "* 加權分數的算法可以試試看直接把表格跟分數相乘 會有意想不到的結果喔\n",
    "* 如何算加權分數可以參考影片5.4: 「用熊貓做基本數據分析」"
   ]
  },
  {
   "cell_type": "code",
   "execution_count": 11,
   "metadata": {
    "collapsed": true
   },
   "outputs": [],
   "source": [
    "item = [\"國文\",\"英文\", \"數甲\",\"數乙\",\"物理\",\"化學\",\"生物\",\"歷史\",\"地理\",\"公民\"]\n",
    "ming = [86.5, 79.4, 88.2, 96.5, 86.3, 76.8, 96.1, 78.5, 82.4, 88.6]\n",
    "\n",
    "weights = {\n",
    "\"土語系\": [2.0, 2.0, 0.0, 1.00, 0.0, 0.0, 0.0, 1.0, 1.0, 0.00],\n",
    "\"財政系\": [1.0, 1.5, 0.0, 1.50, 0.0, 0.0, 0.0, 0.0, 0.0, 0.00],\n",
    "\"金融系\": [1.0, 1.5, 0.0, 2.00, 0.0, 0.0, 0.0, 0.0, 0.0, 0.00],\n",
    "\"國貿系\": [1.5, 2.0, 0.0, 2.00, 0.0, 0.0, 0.0, 0.0, 0.0, 0.00],\n",
    "\"會計系\": [1.5, 2.0, 0.0, 2.00, 0.0, 0.0, 0.0, 1.0, 1.0, 0.00],\n",
    "\"法律系\": [1.0, 2.0, 0.0, 1.00, 0.0, 0.0, 0.0, 1.0, 0.0, 1.00],\n",
    "\"公行系\": [1.0, 1.5, 0.0, 1.25, 0.0, 0.0, 0.0, 0.0, 0.0, 1.25],\n",
    "\"應數系\": [1.0, 1.0, 1.5, 0.00, 1.0, 1.0, 0.0, 0.0, 0.0, 0.00],\n",
    "\"教育系\": [1.5, 2.0, 0.0, 1.25, 0.0, 0.0, 0.0, 1.0, 1.0, 0.00]\n",
    "}"
   ]
  },
  {
   "cell_type": "code",
   "execution_count": 12,
   "metadata": {},
   "outputs": [
    {
     "data": {
      "text/html": [
       "<div>\n",
       "<style>\n",
       "    .dataframe thead tr:only-child th {\n",
       "        text-align: right;\n",
       "    }\n",
       "\n",
       "    .dataframe thead th {\n",
       "        text-align: left;\n",
       "    }\n",
       "\n",
       "    .dataframe tbody tr th {\n",
       "        vertical-align: top;\n",
       "    }\n",
       "</style>\n",
       "<table border=\"1\" class=\"dataframe\">\n",
       "  <thead>\n",
       "    <tr style=\"text-align: right;\">\n",
       "      <th></th>\n",
       "      <th>國文</th>\n",
       "      <th>英文</th>\n",
       "      <th>數甲</th>\n",
       "      <th>數乙</th>\n",
       "      <th>物理</th>\n",
       "      <th>化學</th>\n",
       "      <th>生物</th>\n",
       "      <th>歷史</th>\n",
       "      <th>地理</th>\n",
       "      <th>公民</th>\n",
       "      <th>加權分數</th>\n",
       "    </tr>\n",
       "  </thead>\n",
       "  <tbody>\n",
       "    <tr>\n",
       "      <th>土語系</th>\n",
       "      <td>2.0</td>\n",
       "      <td>2.0</td>\n",
       "      <td>0.0</td>\n",
       "      <td>1.00</td>\n",
       "      <td>0.0</td>\n",
       "      <td>0.0</td>\n",
       "      <td>0.0</td>\n",
       "      <td>1.0</td>\n",
       "      <td>1.0</td>\n",
       "      <td>0.00</td>\n",
       "      <td>589.200</td>\n",
       "    </tr>\n",
       "    <tr>\n",
       "      <th>財政系</th>\n",
       "      <td>1.0</td>\n",
       "      <td>1.5</td>\n",
       "      <td>0.0</td>\n",
       "      <td>1.50</td>\n",
       "      <td>0.0</td>\n",
       "      <td>0.0</td>\n",
       "      <td>0.0</td>\n",
       "      <td>0.0</td>\n",
       "      <td>0.0</td>\n",
       "      <td>0.00</td>\n",
       "      <td>350.350</td>\n",
       "    </tr>\n",
       "    <tr>\n",
       "      <th>金融系</th>\n",
       "      <td>1.0</td>\n",
       "      <td>1.5</td>\n",
       "      <td>0.0</td>\n",
       "      <td>2.00</td>\n",
       "      <td>0.0</td>\n",
       "      <td>0.0</td>\n",
       "      <td>0.0</td>\n",
       "      <td>0.0</td>\n",
       "      <td>0.0</td>\n",
       "      <td>0.00</td>\n",
       "      <td>398.600</td>\n",
       "    </tr>\n",
       "    <tr>\n",
       "      <th>國貿系</th>\n",
       "      <td>1.5</td>\n",
       "      <td>2.0</td>\n",
       "      <td>0.0</td>\n",
       "      <td>2.00</td>\n",
       "      <td>0.0</td>\n",
       "      <td>0.0</td>\n",
       "      <td>0.0</td>\n",
       "      <td>0.0</td>\n",
       "      <td>0.0</td>\n",
       "      <td>0.00</td>\n",
       "      <td>481.550</td>\n",
       "    </tr>\n",
       "    <tr>\n",
       "      <th>會計系</th>\n",
       "      <td>1.5</td>\n",
       "      <td>2.0</td>\n",
       "      <td>0.0</td>\n",
       "      <td>2.00</td>\n",
       "      <td>0.0</td>\n",
       "      <td>0.0</td>\n",
       "      <td>0.0</td>\n",
       "      <td>1.0</td>\n",
       "      <td>1.0</td>\n",
       "      <td>0.00</td>\n",
       "      <td>642.450</td>\n",
       "    </tr>\n",
       "    <tr>\n",
       "      <th>法律系</th>\n",
       "      <td>1.0</td>\n",
       "      <td>2.0</td>\n",
       "      <td>0.0</td>\n",
       "      <td>1.00</td>\n",
       "      <td>0.0</td>\n",
       "      <td>0.0</td>\n",
       "      <td>0.0</td>\n",
       "      <td>1.0</td>\n",
       "      <td>0.0</td>\n",
       "      <td>1.00</td>\n",
       "      <td>508.900</td>\n",
       "    </tr>\n",
       "    <tr>\n",
       "      <th>公行系</th>\n",
       "      <td>1.0</td>\n",
       "      <td>1.5</td>\n",
       "      <td>0.0</td>\n",
       "      <td>1.25</td>\n",
       "      <td>0.0</td>\n",
       "      <td>0.0</td>\n",
       "      <td>0.0</td>\n",
       "      <td>0.0</td>\n",
       "      <td>0.0</td>\n",
       "      <td>1.25</td>\n",
       "      <td>436.975</td>\n",
       "    </tr>\n",
       "    <tr>\n",
       "      <th>應數系</th>\n",
       "      <td>1.0</td>\n",
       "      <td>1.0</td>\n",
       "      <td>1.5</td>\n",
       "      <td>0.00</td>\n",
       "      <td>1.0</td>\n",
       "      <td>1.0</td>\n",
       "      <td>0.0</td>\n",
       "      <td>0.0</td>\n",
       "      <td>0.0</td>\n",
       "      <td>0.00</td>\n",
       "      <td>461.300</td>\n",
       "    </tr>\n",
       "    <tr>\n",
       "      <th>教育系</th>\n",
       "      <td>1.5</td>\n",
       "      <td>2.0</td>\n",
       "      <td>0.0</td>\n",
       "      <td>1.25</td>\n",
       "      <td>0.0</td>\n",
       "      <td>0.0</td>\n",
       "      <td>0.0</td>\n",
       "      <td>1.0</td>\n",
       "      <td>1.0</td>\n",
       "      <td>0.00</td>\n",
       "      <td>570.075</td>\n",
       "    </tr>\n",
       "  </tbody>\n",
       "</table>\n",
       "</div>"
      ],
      "text/plain": [
       "      國文   英文   數甲    數乙   物理   化學   生物   歷史   地理    公民     加權分數\n",
       "土語系  2.0  2.0  0.0  1.00  0.0  0.0  0.0  1.0  1.0  0.00  589.200\n",
       "財政系  1.0  1.5  0.0  1.50  0.0  0.0  0.0  0.0  0.0  0.00  350.350\n",
       "金融系  1.0  1.5  0.0  2.00  0.0  0.0  0.0  0.0  0.0  0.00  398.600\n",
       "國貿系  1.5  2.0  0.0  2.00  0.0  0.0  0.0  0.0  0.0  0.00  481.550\n",
       "會計系  1.5  2.0  0.0  2.00  0.0  0.0  0.0  1.0  1.0  0.00  642.450\n",
       "法律系  1.0  2.0  0.0  1.00  0.0  0.0  0.0  1.0  0.0  1.00  508.900\n",
       "公行系  1.0  1.5  0.0  1.25  0.0  0.0  0.0  0.0  0.0  1.25  436.975\n",
       "應數系  1.0  1.0  1.5  0.00  1.0  1.0  0.0  0.0  0.0  0.00  461.300\n",
       "教育系  1.5  2.0  0.0  1.25  0.0  0.0  0.0  1.0  1.0  0.00  570.075"
      ]
     },
     "execution_count": 12,
     "metadata": {},
     "output_type": "execute_result"
    }
   ],
   "source": [
    "df = pd.DataFrame(list(weights.values()),columns=item,index=weights.keys())\n",
    "df['加權分數'] = np.dot(df[item],ming)\n",
    "df"
   ]
  },
  {
   "cell_type": "markdown",
   "metadata": {},
   "source": [
    "## 挑戰題一_Bubble Sort\n",
    "Geoffrey是個喜歡自動化的老師，某次期中考過後，他想要把學生的成績用電腦自動排序，於是他請Andrew幫忙開發這個高難度的程式…\n",
    "\n",
    "限制：不可以使用Python內建的sort()\n",
    "\n",
    "提示：\n",
    "\n",
    "每回合都把該回合範圍內最小的數搬到最左邊，最後就可以排好所有的數\n",
    "搬運的方式可以透過兩兩互換"
   ]
  },
  {
   "cell_type": "code",
   "execution_count": 15,
   "metadata": {
    "collapsed": true
   },
   "outputs": [],
   "source": [
    "def bubble_sort(n):\n",
    "    for i in range(len(n)-1):\n",
    "        for j in range(len(n)-1-i):\n",
    "            #print(i,j,n,n[j],n[j+1]) #看過程\n",
    "            if n[j] > n[j+1]:\n",
    "                n[j],n[j+1] = n[j+1],n[j] #原來python可以這樣直接換，不用存在tmp\n",
    "    return n"
   ]
  },
  {
   "cell_type": "code",
   "execution_count": 16,
   "metadata": {},
   "outputs": [
    {
     "data": {
      "text/plain": [
       "[-10, 0, 1, 3, 4, 6, 7, 8, 9]"
      ]
     },
     "execution_count": 16,
     "metadata": {},
     "output_type": "execute_result"
    }
   ],
   "source": [
    "bubble_sort([4,8,3,6,9,1,7,0,-10])"
   ]
  },
  {
   "cell_type": "code",
   "execution_count": null,
   "metadata": {
    "collapsed": true
   },
   "outputs": [],
   "source": []
  }
 ],
 "metadata": {
  "kernelspec": {
   "display_name": "Python 3",
   "language": "python",
   "name": "python3"
  },
  "language_info": {
   "codemirror_mode": {
    "name": "ipython",
    "version": 3
   },
   "file_extension": ".py",
   "mimetype": "text/x-python",
   "name": "python",
   "nbconvert_exporter": "python",
   "pygments_lexer": "ipython3",
   "version": "3.6.2"
  }
 },
 "nbformat": 4,
 "nbformat_minor": 2
}
