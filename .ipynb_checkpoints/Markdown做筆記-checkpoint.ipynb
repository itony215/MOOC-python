{
 "cells": [
  {
   "cell_type": "markdown",
   "metadata": {},
   "source": [
    "code 改成 Markdown\n",
    "切換快捷鍵 Ctrl+m 再按 m"
   ]
  },
  {
   "cell_type": "markdown",
   "metadata": {},
   "source": [
    "# 大標題\n",
    "## 小標題\n",
    "### 內文\n",
    "* python\n"
   ]
  },
  {
   "cell_type": "markdown",
   "metadata": {},
   "source": [
    "## 連結\n",
    "[yahoo](http://tw.yahoo.com)"
   ]
  },
  {
   "cell_type": "markdown",
   "metadata": {},
   "source": [
    "## 插入圖片\n",
    "![台灣黑熊](https://upload.wikimedia.org/wikipedia/zh/a/a1/Poster_toy_story_2.jpg)"
   ]
  },
  {
   "cell_type": "markdown",
   "metadata": {},
   "source": [
    "## 打數學符號\n",
    "\n",
    "$f(x) = x^3-2x^2+5$, 積分\n",
    "\n",
    "$$\\int_a^b f(x) \\, dx$$"
   ]
  },
  {
   "cell_type": "code",
   "execution_count": null,
   "metadata": {
    "collapsed": true
   },
   "outputs": [],
   "source": []
  }
 ],
 "metadata": {
  "kernelspec": {
   "display_name": "Python 3",
   "language": "python",
   "name": "python3"
  },
  "language_info": {
   "codemirror_mode": {
    "name": "ipython",
    "version": 3
   },
   "file_extension": ".py",
   "mimetype": "text/x-python",
   "name": "python",
   "nbconvert_exporter": "python",
   "pygments_lexer": "ipython3",
   "version": "3.6.2"
  }
 },
 "nbformat": 4,
 "nbformat_minor": 2
}
