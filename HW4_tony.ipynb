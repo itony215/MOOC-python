{
 "cells": [
  {
   "cell_type": "code",
   "execution_count": 1,
   "metadata": {
    "collapsed": true
   },
   "outputs": [],
   "source": [
    "%matplotlib inline\n",
    "import numpy as np\n",
    "import matplotlib.pyplot as plt\n",
    "from ipywidgets import interact_manual\n",
    "from ipywidgets import interact"
   ]
  },
  {
   "cell_type": "markdown",
   "metadata": {},
   "source": [
    "### 第一題：抽點系統"
   ]
  },
  {
   "cell_type": "code",
   "execution_count": 2,
   "metadata": {
    "collapsed": true
   },
   "outputs": [],
   "source": [
    "def f():\n",
    "    member = ['大雄','胖虎','小夫','宜靜','小杉']\n",
    "    return np.random.choice(member)"
   ]
  },
  {
   "cell_type": "code",
   "execution_count": 3,
   "metadata": {},
   "outputs": [
    {
     "data": {
      "text/plain": [
       "'胖虎'"
      ]
     },
     "execution_count": 3,
     "metadata": {},
     "output_type": "execute_result"
    }
   ],
   "source": [
    "f()"
   ]
  },
  {
   "cell_type": "markdown",
   "metadata": {},
   "source": [
    "### 第二題：變長變短"
   ]
  },
  {
   "cell_type": "code",
   "execution_count": 4,
   "metadata": {
    "collapsed": true
   },
   "outputs": [],
   "source": [
    "def bar(x):\n",
    "    print(\"■\"*x)"
   ]
  },
  {
   "cell_type": "code",
   "execution_count": 5,
   "metadata": {},
   "outputs": [
    {
     "data": {
      "application/vnd.jupyter.widget-view+json": {
       "model_id": "48b31a60705441cc8cf1f7c319947b72",
       "version_major": 2,
       "version_minor": 0
      },
      "text/plain": [
       "A Jupyter Widget"
      ]
     },
     "metadata": {},
     "output_type": "display_data"
    },
    {
     "data": {
      "text/plain": [
       "<function __main__.bar>"
      ]
     },
     "execution_count": 5,
     "metadata": {},
     "output_type": "execute_result"
    }
   ],
   "source": [
    "interact(bar,x=(1,50))"
   ]
  },
  {
   "cell_type": "markdown",
   "metadata": {},
   "source": [
    "### 第三題：考試加權分數"
   ]
  },
  {
   "cell_type": "code",
   "execution_count": 6,
   "metadata": {
    "collapsed": true
   },
   "outputs": [],
   "source": [
    "score = [86.5, 79.4, 88.2, 96.5, 86.3, 76.8, 96.1, 78.5, 82.4, 88.6]\n",
    "weights = {\n",
    "\"土語系\": [2, 2, 0, 1, 0, 0, 0, 1, 1, 0],\n",
    "\"財政系\": [1, 1.5, 0, 1.5, 0, 0, 0, 0, 0, 0],\n",
    "\"金融系\": [1, 1.5, 0, 2, 0, 0, 0, 0, 0, 0],\n",
    "\"國貿系\": [1.5, 2, 0, 2, 0, 0, 0, 0, 0, 0],\n",
    "\"會計系\": [1.5, 2, 0, 2, 0, 0, 0, 1, 1, 0],\n",
    "\"法律系\": [1, 2, 0, 1, 0, 0, 0, 1, 0, 1],\n",
    "\"公行系\": [1, 1.5, 0, 1.25, 0, 0, 0, 0, 0, 1.25],\n",
    "\"應數系\": [1, 1, 1.5, 0, 1, 1, 0, 0, 0, 0],\n",
    "\"教育系\": [1.5, 2, 0, 1.25, 0, 0, 0, 1, 1, 0]\n",
    "} "
   ]
  },
  {
   "cell_type": "code",
   "execution_count": 7,
   "metadata": {
    "collapsed": true
   },
   "outputs": [],
   "source": [
    "def cal(department):\n",
    "    w = np.array(weights[department])\n",
    "    s = np.array(score)\n",
    "    total = np.dot(s,w)\n",
    "    print('{:.1f}'.format(total))"
   ]
  },
  {
   "cell_type": "code",
   "execution_count": 9,
   "metadata": {},
   "outputs": [
    {
     "data": {
      "application/vnd.jupyter.widget-view+json": {
       "model_id": "d1a0f25ae65d480e947937fde551852e",
       "version_major": 2,
       "version_minor": 0
      },
      "text/plain": [
       "A Jupyter Widget"
      ]
     },
     "metadata": {},
     "output_type": "display_data"
    },
    {
     "data": {
      "text/plain": [
       "<function __main__.cal>"
      ]
     },
     "execution_count": 9,
     "metadata": {},
     "output_type": "execute_result"
    }
   ],
   "source": [
    "interact(cal, department = weights.keys())"
   ]
  },
  {
   "cell_type": "markdown",
   "metadata": {},
   "source": [
    "### Challenge Challenge魔鬼挑戰題：\n",
    "#### （做完可以直接得到一百分）\n",
    "#### 將上週挑戰題一所要求的函式在10行以內寫出來\n",
    "\n",
    "\n",
    "(上週)挑戰題一：\n",
    "\n",
    "請定義一個全班高微成績的函式，輸入是一個(3, 30, 3)的array，\n",
    "表示3個班級中30位學生的成績(小考，期中考，期末考)。  \n",
    "目標輸出則是一個(3, 30, 1)的array，表示所有學生的期末成績，期末成績計算方式如下：\n",
    "1. 小考20%，期中考35%，期末考45%\n",
    "2. 期中考40%，期末考60%。 擇優作為期末成績"
   ]
  },
  {
   "cell_type": "code",
   "execution_count": 10,
   "metadata": {
    "collapsed": true
   },
   "outputs": [],
   "source": [
    "grades=np.array(np.random.randint(60,100,270)) # randint(60,100,3x30x3) 隨機產生 3班級X30人X3次考試共270筆成績\n",
    "grades=grades.reshape(3,30,3)                  # 依班級學生，重新排列成績單 三個班級、每班30人、3次考試　==> grades(3,30,3)"
   ]
  },
  {
   "cell_type": "code",
   "execution_count": 11,
   "metadata": {},
   "outputs": [
    {
     "data": {
      "text/plain": [
       "(3, 30, 3)"
      ]
     },
     "execution_count": 11,
     "metadata": {},
     "output_type": "execute_result"
    }
   ],
   "source": [
    "grades.shape"
   ]
  },
  {
   "cell_type": "markdown",
   "metadata": {},
   "source": [
    "#### 定義一個計算的函式 final():\n",
    "輸入: (3,30,3)的array [3個班級中30位學生的成績(小考，期中考，期末考)]  \n",
    "期末成績: (小考20%，期中考35%，期末考45%) OR (期中考40%，期末考60%) 擇優  \n",
    "輸出: (3,30,1)的array [3個班級中30位學生的期末成績]"
   ]
  },
  {
   "cell_type": "code",
   "execution_count": 12,
   "metadata": {
    "collapsed": true
   },
   "outputs": [],
   "source": [
    "def final(g):                          # 定義一個函式final來計算\n",
    "    weights1=np.array([0.2,0.35,0.45]) # 小考20%，期中考35%，期末考45%\n",
    "    weights2=np.array([0,0.4,0.6])     # 小考不計，期中考40%，期末考60%\n",
    "    R1=np.dot(g,weights1)              # 期末成績計算方式 1\n",
    "    R2=np.dot(g,weights2)              # 期末成績計算方式 2\n",
    "    R1=R1.reshape(3,30,1)              # 輸出(3,30,1)的array\n",
    "    R2=R2.reshape(3,30,1)\n",
    "    finalscore = np.where(R1>R2,R1,R2) # 期末成績計算方式 擇優\n",
    "    return finalscore"
   ]
  },
  {
   "cell_type": "code",
   "execution_count": 13,
   "metadata": {
    "collapsed": true
   },
   "outputs": [],
   "source": [
    "Result=final(grades)"
   ]
  },
  {
   "cell_type": "code",
   "execution_count": 14,
   "metadata": {},
   "outputs": [
    {
     "data": {
      "text/plain": [
       "(3, 30, 1)"
      ]
     },
     "execution_count": 14,
     "metadata": {},
     "output_type": "execute_result"
    }
   ],
   "source": [
    "Result.shape"
   ]
  },
  {
   "cell_type": "code",
   "execution_count": 15,
   "metadata": {},
   "outputs": [
    {
     "data": {
      "text/plain": [
       "array([[[ 82.65],\n",
       "        [ 84.55],\n",
       "        [ 68.  ],\n",
       "        [ 78.2 ],\n",
       "        [ 71.8 ],\n",
       "        [ 78.6 ],\n",
       "        [ 76.6 ],\n",
       "        [ 77.2 ],\n",
       "        [ 82.8 ],\n",
       "        [ 85.55],\n",
       "        [ 91.4 ],\n",
       "        [ 70.6 ],\n",
       "        [ 72.2 ],\n",
       "        [ 84.8 ],\n",
       "        [ 79.3 ],\n",
       "        [ 89.8 ],\n",
       "        [ 86.6 ],\n",
       "        [ 74.85],\n",
       "        [ 77.6 ],\n",
       "        [ 76.6 ],\n",
       "        [ 73.4 ],\n",
       "        [ 82.05],\n",
       "        [ 93.6 ],\n",
       "        [ 71.6 ],\n",
       "        [ 86.15],\n",
       "        [ 78.2 ],\n",
       "        [ 81.6 ],\n",
       "        [ 76.85],\n",
       "        [ 80.8 ],\n",
       "        [ 72.  ]],\n",
       "\n",
       "       [[ 94.8 ],\n",
       "        [ 91.8 ],\n",
       "        [ 74.6 ],\n",
       "        [ 88.8 ],\n",
       "        [ 84.2 ],\n",
       "        [ 78.4 ],\n",
       "        [ 78.9 ],\n",
       "        [ 76.2 ],\n",
       "        [ 72.4 ],\n",
       "        [ 87.3 ],\n",
       "        [ 75.65],\n",
       "        [ 81.95],\n",
       "        [ 73.05],\n",
       "        [ 82.6 ],\n",
       "        [ 93.8 ],\n",
       "        [ 85.4 ],\n",
       "        [ 68.6 ],\n",
       "        [ 80.55],\n",
       "        [ 82.8 ],\n",
       "        [ 81.6 ],\n",
       "        [ 82.2 ],\n",
       "        [ 92.6 ],\n",
       "        [ 69.6 ],\n",
       "        [ 75.6 ],\n",
       "        [ 79.  ],\n",
       "        [ 73.85],\n",
       "        [ 93.  ],\n",
       "        [ 84.  ],\n",
       "        [ 73.9 ],\n",
       "        [ 86.5 ]],\n",
       "\n",
       "       [[ 87.75],\n",
       "        [ 81.3 ],\n",
       "        [ 90.35],\n",
       "        [ 84.4 ],\n",
       "        [ 76.4 ],\n",
       "        [ 81.2 ],\n",
       "        [ 73.55],\n",
       "        [ 78.95],\n",
       "        [ 84.4 ],\n",
       "        [ 87.6 ],\n",
       "        [ 77.6 ],\n",
       "        [ 91.55],\n",
       "        [ 84.35],\n",
       "        [ 94.6 ],\n",
       "        [ 74.2 ],\n",
       "        [ 83.95],\n",
       "        [ 67.4 ],\n",
       "        [ 71.6 ],\n",
       "        [ 67.8 ],\n",
       "        [ 87.4 ],\n",
       "        [ 68.8 ],\n",
       "        [ 79.8 ],\n",
       "        [ 76.35],\n",
       "        [ 75.35],\n",
       "        [ 72.4 ],\n",
       "        [ 89.2 ],\n",
       "        [ 91.  ],\n",
       "        [ 85.2 ],\n",
       "        [ 68.9 ],\n",
       "        [ 92.15]]])"
      ]
     },
     "execution_count": 15,
     "metadata": {},
     "output_type": "execute_result"
    }
   ],
   "source": [
    "Result"
   ]
  },
  {
   "cell_type": "code",
   "execution_count": null,
   "metadata": {
    "collapsed": true
   },
   "outputs": [],
   "source": []
  }
 ],
 "metadata": {
  "kernelspec": {
   "display_name": "Python 3",
   "language": "python",
   "name": "python3"
  },
  "language_info": {
   "codemirror_mode": {
    "name": "ipython",
    "version": 3
   },
   "file_extension": ".py",
   "mimetype": "text/x-python",
   "name": "python",
   "nbconvert_exporter": "python",
   "pygments_lexer": "ipython3",
   "version": "3.6.2"
  }
 },
 "nbformat": 4,
 "nbformat_minor": 2
}
