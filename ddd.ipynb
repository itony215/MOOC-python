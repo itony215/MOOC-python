{
 "cells": [
  {
   "cell_type": "code",
   "execution_count": 1,
   "metadata": {
    "collapsed": true
   },
   "outputs": [],
   "source": [
    "s = 'hello python'"
   ]
  },
  {
   "cell_type": "code",
   "execution_count": 2,
   "metadata": {},
   "outputs": [
    {
     "ename": "AttributeError",
     "evalue": "'str' object has no attribute 'reverse'",
     "output_type": "error",
     "traceback": [
      "\u001b[0;31m---------------------------------------------------------------------------\u001b[0m",
      "\u001b[0;31mAttributeError\u001b[0m                            Traceback (most recent call last)",
      "\u001b[0;32m<ipython-input-2-d16f4894b374>\u001b[0m in \u001b[0;36m<module>\u001b[0;34m()\u001b[0m\n\u001b[0;32m----> 1\u001b[0;31m \u001b[0ms\u001b[0m\u001b[0;34m.\u001b[0m\u001b[0mreverse\u001b[0m\u001b[0;34m(\u001b[0m\u001b[0;34m)\u001b[0m\u001b[0;34m\u001b[0m\u001b[0m\n\u001b[0m",
      "\u001b[0;31mAttributeError\u001b[0m: 'str' object has no attribute 'reverse'"
     ]
    }
   ],
   "source": [
    "s.reverse()"
   ]
  },
  {
   "cell_type": "code",
   "execution_count": 3,
   "metadata": {},
   "outputs": [
    {
     "name": "stdout",
     "output_type": "stream",
     "text": [
      "nohtyp olleh\n"
     ]
    }
   ],
   "source": [
    "print(s[::-1])"
   ]
  },
  {
   "cell_type": "code",
   "execution_count": 14,
   "metadata": {},
   "outputs": [
    {
     "name": "stdout",
     "output_type": "stream",
     "text": [
      "Populating the interactive namespace from numpy and matplotlib\n"
     ]
    }
   ],
   "source": [
    "%pylab inline"
   ]
  },
  {
   "cell_type": "code",
   "execution_count": 16,
   "metadata": {},
   "outputs": [
    {
     "name": "stdout",
     "output_type": "stream",
     "text": [
      "Please guess a number(1~100)>> 50\n",
      "Too small, guess again>> \n",
      "Please guess a number(1~100)>> 20\n",
      "Too small, guess again>> \n",
      "Please guess a number(1~100)>> 80\n",
      "Too large, guess again>> \n",
      "Please guess a number(1~100)>> 70\n",
      "Too large, guess again>> \n",
      "Please guess a number(1~100)>> 60\n",
      "Too small, guess again>> \n",
      "Please guess a number(1~100)>> 65\n",
      "Too large, guess again>> \n",
      "Please guess a number(1~100)>> 62\n",
      "Too small, guess again>> \n",
      "Please guess a number(1~100)>> 63\n",
      "Correct!\n"
     ]
    }
   ],
   "source": [
    "picked = int(rand(1)*100)\n",
    "guess = 0\n",
    "while guess != picked:\n",
    "    guess = int(input(\"Please guess a number(1~100)>> \"))\n",
    "    if guess == picked:\n",
    "        print(\"Correct!\")    \n",
    "    elif guess > picked:\n",
    "        print(\"Too large, guess again>> \")\n",
    "    elif guess < picked:\n",
    "        print(\"Too small, guess again>> \")"
   ]
  },
  {
   "cell_type": "code",
   "execution_count": 3,
   "metadata": {},
   "outputs": [],
   "source": [
    "s = 'hello python'"
   ]
  },
  {
   "cell_type": "code",
   "execution_count": 5,
   "metadata": {},
   "outputs": [
    {
     "data": {
      "text/plain": [
       "'nohtyp olleh'"
      ]
     },
     "execution_count": 5,
     "metadata": {},
     "output_type": "execute_result"
    }
   ],
   "source": [
    "s[::-1]"
   ]
  },
  {
   "cell_type": "code",
   "execution_count": 6,
   "metadata": {},
   "outputs": [
    {
     "name": "stdout",
     "output_type": "stream",
     "text": [
      "nohtyp olleh\n"
     ]
    }
   ],
   "source": [
    "print(''.join(reversed(s)))"
   ]
  },
  {
   "cell_type": "code",
   "execution_count": 24,
   "metadata": {
    "collapsed": true
   },
   "outputs": [],
   "source": [
    "def reverse(string):\n",
    "    r= ''\n",
    "    for c in string:\n",
    "        r = c + r\n",
    "    return r"
   ]
  },
  {
   "cell_type": "code",
   "execution_count": 25,
   "metadata": {},
   "outputs": [
    {
     "data": {
      "text/plain": [
       "'987654321'"
      ]
     },
     "execution_count": 25,
     "metadata": {},
     "output_type": "execute_result"
    }
   ],
   "source": [
    "reverse(\"123456789\")"
   ]
  },
  {
   "cell_type": "code",
   "execution_count": 44,
   "metadata": {},
   "outputs": [],
   "source": [
    "def reverse_recursive(string):\n",
    "    if len(string) <= 1:\n",
    "        return string\n",
    "    else:\n",
    "        return reverse_recursive(string[1:]) + string[0]"
   ]
  },
  {
   "cell_type": "code",
   "execution_count": 45,
   "metadata": {},
   "outputs": [
    {
     "data": {
      "text/plain": [
       "'987654321'"
      ]
     },
     "execution_count": 45,
     "metadata": {},
     "output_type": "execute_result"
    }
   ],
   "source": [
    "reverse_recursive('123456789')"
   ]
  },
  {
   "cell_type": "markdown",
   "metadata": {},
   "source": [
    "##### 遞迴 \n",
    "2014年是甲午年\n",
    "2015年是乙未年"
   ]
  },
  {
   "cell_type": "code",
   "execution_count": 50,
   "metadata": {},
   "outputs": [],
   "source": [
    "天干 = \"甲乙丙丁戊己庚辛壬癸\"\n",
    "地支 = \"子丑寅卯辰巳午未申酉戌亥\""
   ]
  },
  {
   "cell_type": "code",
   "execution_count": 67,
   "metadata": {},
   "outputs": [
    {
     "name": "stdout",
     "output_type": "stream",
     "text": [
      "2014年是甲午年\n",
      "2015年是乙未年\n",
      "2016年是丙申年\n",
      "2017年是丁酉年\n",
      "2018年是戊戌年\n",
      "2019年是己亥年\n",
      "2020年是庚子年\n",
      "2021年是辛丑年\n",
      "2022年是壬寅年\n",
      "2023年是癸卯年\n",
      "2024年是甲辰年\n",
      "2025年是乙巳年\n",
      "2026年是丙午年\n",
      "2027年是丁未年\n",
      "2028年是戊申年\n",
      "2029年是己酉年\n",
      "2030年是庚戌年\n",
      "2031年是辛亥年\n",
      "2032年是壬子年\n",
      "2033年是癸丑年\n",
      "2034年是甲寅年\n",
      "2035年是乙卯年\n",
      "2036年是丙辰年\n",
      "2037年是丁巳年\n",
      "2038年是戊午年\n",
      "2039年是己未年\n",
      "2040年是庚申年\n",
      "2041年是辛酉年\n",
      "2042年是壬戌年\n",
      "2043年是癸亥年\n",
      "2044年是甲子年\n",
      "2045年是乙丑年\n",
      "2046年是丙寅年\n",
      "2047年是丁卯年\n",
      "2048年是戊辰年\n",
      "2049年是己巳年\n",
      "2050年是庚午年\n",
      "2051年是辛未年\n",
      "2052年是壬申年\n",
      "2053年是癸酉年\n",
      "2054年是甲戌年\n",
      "2055年是乙亥年\n",
      "2056年是丙子年\n",
      "2057年是丁丑年\n",
      "2058年是戊寅年\n",
      "2059年是己卯年\n",
      "2060年是庚辰年\n",
      "2061年是辛巳年\n",
      "2062年是壬午年\n",
      "2063年是癸未年\n",
      "2064年是甲申年\n",
      "2065年是乙酉年\n",
      "2066年是丙戌年\n",
      "2067年是丁亥年\n",
      "2068年是戊子年\n",
      "2069年是己丑年\n",
      "2070年是庚寅年\n",
      "2071年是辛卯年\n",
      "2072年是壬辰年\n",
      "2073年是癸巳年\n"
     ]
    }
   ],
   "source": [
    "a = 0\n",
    "b = 6\n",
    "for i in range(2014, 2074):\n",
    "    c = 天干[a] + 地支[b]\n",
    "    print(\"{}年是{}年\".format(i, c))\n",
    "    if a < len(天干)-1:\n",
    "        a = a + 1\n",
    "    else:\n",
    "        a = 0\n",
    "    if b < len(地支)-1:\n",
    "        b = b + 1\n",
    "    else:\n",
    "        b = 0"
   ]
  },
  {
   "cell_type": "code",
   "execution_count": 52,
   "metadata": {},
   "outputs": [
    {
     "data": {
      "text/plain": [
       "'寅'"
      ]
     },
     "execution_count": 52,
     "metadata": {},
     "output_type": "execute_result"
    }
   ],
   "source": [
    "地支[2]"
   ]
  },
  {
   "cell_type": "code",
   "execution_count": 118,
   "metadata": {},
   "outputs": [],
   "source": [
    "def tree(num):\n",
    "    for i in range(1,num+1):\n",
    "        j = i * 2 - 1\n",
    "        k = num - i\n",
    "        print((\" \"*k) + (\"*\"*j))"
   ]
  },
  {
   "cell_type": "code",
   "execution_count": 125,
   "metadata": {},
   "outputs": [
    {
     "name": "stdout",
     "output_type": "stream",
     "text": [
      "     *\n",
      "    ***\n",
      "   *****\n",
      "  *******\n",
      " *********\n",
      "***********\n"
     ]
    }
   ],
   "source": [
    "tree(6)"
   ]
  },
  {
   "cell_type": "code",
   "execution_count": null,
   "metadata": {
    "collapsed": true
   },
   "outputs": [],
   "source": []
  }
 ],
 "metadata": {
  "kernelspec": {
   "display_name": "Python 3",
   "language": "python",
   "name": "python3"
  },
  "language_info": {
   "codemirror_mode": {
    "name": "ipython",
    "version": 3
   },
   "file_extension": ".py",
   "mimetype": "text/x-python",
   "name": "python",
   "nbconvert_exporter": "python",
   "pygments_lexer": "ipython3",
   "version": "3.6.2"
  }
 },
 "nbformat": 4,
 "nbformat_minor": 2
}
