{
 "cells": [
  {
   "cell_type": "markdown",
   "metadata": {},
   "source": [
    "### 挑戰題一： \n",
    "#### 請定義一個全班高微成績的函式，輸入是一個(3, 30, 3)的array，\n",
    "表示3個班級中30位學生的成績(小考，期中考，期末考)。  \n",
    "目標輸出則是一個(3, 30, 1)的array，表示所有學生的期末成績，期末成績計算方式如下：\n",
    "1. 小考20%，期中考35%，期末考45%\n",
    "2. 期中考40%，期末考60%。 擇優作為期末成績"
   ]
  },
  {
   "cell_type": "code",
   "execution_count": 1,
   "metadata": {
    "collapsed": true
   },
   "outputs": [],
   "source": [
    "%matplotlib inline\n",
    "import numpy as np\n",
    "import matplotlib.pyplot as plt"
   ]
  },
  {
   "cell_type": "markdown",
   "metadata": {},
   "source": [
    "#### 三個班級，每班30人，小考、期中考、期末考共3次,同學很認真，全班都及格(60~100分)\n",
    "randint(60,100,3x30x3) 隨機產生 3班級X30人X3次考試共270筆成績"
   ]
  },
  {
   "cell_type": "code",
   "execution_count": 2,
   "metadata": {
    "collapsed": true
   },
   "outputs": [],
   "source": [
    "grades=np.array(np.random.randint(60,100,270))"
   ]
  },
  {
   "cell_type": "code",
   "execution_count": 3,
   "metadata": {},
   "outputs": [
    {
     "data": {
      "text/plain": [
       "array([61, 70, 99, 77, 92, 73, 61, 75, 81, 92, 83, 71, 90, 67, 76, 72, 98,\n",
       "       70, 98, 88, 76, 85, 63, 87, 62, 76, 84, 71, 86, 81, 64, 60, 98, 69,\n",
       "       69, 91, 77, 89, 87, 63, 69, 76, 77, 87, 87, 67, 73, 72, 74, 92, 78,\n",
       "       76, 98, 70, 94, 85, 88, 93, 97, 80, 74, 64, 64, 93, 76, 73, 84, 64,\n",
       "       65, 85, 63, 77, 97, 73, 60, 75, 66, 83, 89, 91, 78, 87, 65, 98, 94,\n",
       "       94, 69, 95, 94, 79, 93, 71, 91, 62, 91, 96, 93, 65, 86, 76, 83, 62,\n",
       "       89, 63, 81, 98, 65, 74, 88, 76, 91, 99, 84, 65, 80, 89, 73, 98, 85,\n",
       "       85, 78, 67, 66, 69, 79, 88, 62, 85, 63, 87, 88, 86, 82, 95, 61, 68,\n",
       "       92, 98, 72, 64, 79, 61, 70, 72, 82, 87, 93, 66, 79, 94, 77, 82, 96,\n",
       "       80, 69, 82, 65, 72, 68, 73, 72, 73, 63, 66, 85, 82, 85, 88, 61, 72,\n",
       "       71, 68, 91, 72, 83, 88, 82, 98, 79, 62, 93, 87, 69, 96, 63, 93, 75,\n",
       "       71, 87, 93, 62, 97, 86, 70, 99, 88, 65, 94, 71, 86, 64, 67, 70, 81,\n",
       "       84, 99, 85, 75, 90, 80, 93, 70, 74, 72, 60, 96, 70, 65, 72, 63, 68,\n",
       "       64, 78, 91, 69, 73, 66, 85, 95, 68, 86, 76, 74, 60, 85, 77, 71, 90,\n",
       "       73, 77, 83, 78, 77, 95, 84, 73, 80, 77, 88, 77, 97, 89, 99, 84, 79,\n",
       "       95, 95, 84, 65, 61, 93, 78, 66, 61, 71, 79, 95, 84, 79, 98])"
      ]
     },
     "execution_count": 3,
     "metadata": {},
     "output_type": "execute_result"
    }
   ],
   "source": [
    "grades"
   ]
  },
  {
   "cell_type": "markdown",
   "metadata": {},
   "source": [
    "### 依班級學生，重新排列成績單\n",
    "三個班級、每班30人、3次考試　==> grades(3,30,3)"
   ]
  },
  {
   "cell_type": "code",
   "execution_count": 4,
   "metadata": {
    "collapsed": true
   },
   "outputs": [],
   "source": [
    "grades=grades.reshape(3,30,3)"
   ]
  },
  {
   "cell_type": "code",
   "execution_count": 5,
   "metadata": {},
   "outputs": [
    {
     "data": {
      "text/plain": [
       "(3, 30, 3)"
      ]
     },
     "execution_count": 5,
     "metadata": {},
     "output_type": "execute_result"
    }
   ],
   "source": [
    "grades.shape"
   ]
  },
  {
   "cell_type": "markdown",
   "metadata": {},
   "source": [
    "### 定義一個全班高微成績的函式 final():\n",
    "輸入: (3,30,3)的array [3個班級中30位學生的成績(小考，期中考，期末考)]  \n",
    "期末成績: (小考20%，期中考35%，期末考45%) OR (期中考40%，期末考60%) 擇優  \n",
    "輸出: (3,30,1)的array [3個班級中30位學生的期末成績]"
   ]
  },
  {
   "cell_type": "code",
   "execution_count": 6,
   "metadata": {
    "collapsed": true
   },
   "outputs": [],
   "source": [
    "def final(g):\n",
    "    weights1=np.array([0.2,0.35,0.45]) # 小考20%，期中考35%，期末考45%\n",
    "    weights2=np.array([0,0.4,0.6])     # 小考不計，期中考40%，期末考60%\n",
    "    R1=np.dot(g,weights1)              # 期末成績計算方式 1\n",
    "    R2=np.dot(g,weights2)              # 期末成績計算方式 2\n",
    "    R1=R1.reshape(3,30,1)              # 輸出(3,30,1)的array\n",
    "    R2=R2.reshape(3,30,1)\n",
    "    R=np.zeros((3,30,1))\n",
    "    for i in range(3):\n",
    "        for j in range(30):       \n",
    "            if(R1[i,j,0]>R2[i,j,0]):\n",
    "                R[i,j,0]=R1[i,j,0]     # 期末成績計算方式 1 較優\n",
    "            else:\n",
    "                R[i,j,0]=R2[i,j,0]     # 期末成績計算方式 2 較優\n",
    "    return R"
   ]
  },
  {
   "cell_type": "code",
   "execution_count": 7,
   "metadata": {
    "collapsed": true
   },
   "outputs": [],
   "source": [
    "Result=final(grades)     # 期末成績結果計算，存入(3,30,1)的Result"
   ]
  },
  {
   "cell_type": "code",
   "execution_count": 8,
   "metadata": {},
   "outputs": [
    {
     "data": {
      "text/plain": [
       "(3, 30, 1)"
      ]
     },
     "execution_count": 8,
     "metadata": {},
     "output_type": "execute_result"
    }
   ],
   "source": [
    "Result.shape"
   ]
  },
  {
   "cell_type": "code",
   "execution_count": 9,
   "metadata": {},
   "outputs": [
    {
     "data": {
      "text/plain": [
       "array([[[ 87.4 ],\n",
       "        [ 80.6 ],\n",
       "        [ 78.6 ],\n",
       "        [ 79.4 ],\n",
       "        [ 75.65],\n",
       "        [ 81.2 ],\n",
       "        [ 84.6 ],\n",
       "        [ 78.2 ],\n",
       "        [ 80.8 ],\n",
       "        [ 83.  ],\n",
       "        [ 82.8 ],\n",
       "        [ 82.2 ],\n",
       "        [ 87.8 ],\n",
       "        [ 73.2 ],\n",
       "        [ 87.  ],\n",
       "        [ 72.4 ],\n",
       "        [ 83.6 ],\n",
       "        [ 81.2 ],\n",
       "        [ 88.15],\n",
       "        [ 88.55],\n",
       "        [ 66.  ],\n",
       "        [ 78.05],\n",
       "        [ 68.45],\n",
       "        [ 73.7 ],\n",
       "        [ 71.95],\n",
       "        [ 76.2 ],\n",
       "        [ 84.75],\n",
       "        [ 84.8 ],\n",
       "        [ 82.75],\n",
       "        [ 87.45]],\n",
       "\n",
       "       [[ 84.4 ],\n",
       "        [ 94.  ],\n",
       "        [ 80.05],\n",
       "        [ 72.15],\n",
       "        [ 76.3 ],\n",
       "        [ 75.65],\n",
       "        [ 85.15],\n",
       "        [ 78.45],\n",
       "        [ 80.  ],\n",
       "        [ 87.6 ],\n",
       "        [ 68.75],\n",
       "        [ 84.4 ],\n",
       "        [ 71.8 ],\n",
       "        [ 86.9 ],\n",
       "        [ 77.1 ],\n",
       "        [ 95.6 ],\n",
       "        [ 73.  ],\n",
       "        [ 71.2 ],\n",
       "        [ 90.6 ],\n",
       "        [ 88.  ],\n",
       "        [ 90.4 ],\n",
       "        [ 77.05],\n",
       "        [ 69.6 ],\n",
       "        [ 72.65],\n",
       "        [ 77.4 ],\n",
       "        [ 86.8 ],\n",
       "        [ 71.4 ],\n",
       "        [ 79.6 ],\n",
       "        [ 84.4 ],\n",
       "        [ 75.15]],\n",
       "\n",
       "       [[ 80.1 ],\n",
       "        [ 83.1 ],\n",
       "        [ 80.6 ],\n",
       "        [ 83.95],\n",
       "        [ 87.4 ],\n",
       "        [ 82.65],\n",
       "        [ 73.1 ],\n",
       "        [ 76.6 ],\n",
       "        [ 90.6 ],\n",
       "        [ 84.  ],\n",
       "        [ 76.4 ],\n",
       "        [ 81.6 ],\n",
       "        [ 69.2 ],\n",
       "        [ 65.6 ],\n",
       "        [ 78.5 ],\n",
       "        [ 77.4 ],\n",
       "        [ 81.5 ],\n",
       "        [ 68.1 ],\n",
       "        [ 75.9 ],\n",
       "        [ 78.2 ],\n",
       "        [ 78.55],\n",
       "        [ 81.25],\n",
       "        [ 83.6 ],\n",
       "        [ 92.2 ],\n",
       "        [ 84.75],\n",
       "        [ 90.05],\n",
       "        [ 80.2 ],\n",
       "        [ 66.15],\n",
       "        [ 88.6 ],\n",
       "        [ 90.4 ]]])"
      ]
     },
     "execution_count": 9,
     "metadata": {},
     "output_type": "execute_result"
    }
   ],
   "source": [
    "Result"
   ]
  },
  {
   "cell_type": "code",
   "execution_count": null,
   "metadata": {
    "collapsed": true
   },
   "outputs": [],
   "source": []
  }
 ],
 "metadata": {
  "kernelspec": {
   "display_name": "Python 3",
   "language": "python",
   "name": "python3"
  },
  "language_info": {
   "codemirror_mode": {
    "name": "ipython",
    "version": 3
   },
   "file_extension": ".py",
   "mimetype": "text/x-python",
   "name": "python",
   "nbconvert_exporter": "python",
   "pygments_lexer": "ipython3",
   "version": "3.6.2"
  }
 },
 "nbformat": 4,
 "nbformat_minor": 2
}
